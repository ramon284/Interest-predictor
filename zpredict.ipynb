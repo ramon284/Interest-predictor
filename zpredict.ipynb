{
 "cells": [
  {
   "cell_type": "code",
   "execution_count": 2,
   "metadata": {},
   "outputs": [],
   "source": [
    "import warnings\n",
    "warnings.simplefilter(action='ignore', category=FutureWarning)\n",
    "\n",
    "import pandas as pd\n",
    "import xgboost as xgb\n",
    "from sklearn.model_selection import train_test_split\n",
    "from imblearn.over_sampling import SMOTE\n",
    "\n",
    "from sklearn.model_selection import GridSearchCV\n",
    "from sklearn.metrics import make_scorer, f1_score, roc_auc_score\n",
    "from sklearn.metrics import accuracy_score, classification_report, confusion_matrix"
   ]
  },
  {
   "cell_type": "code",
   "execution_count": 3,
   "metadata": {},
   "outputs": [],
   "source": [
    "def preprocess(df):\n",
    "    listIntToBool = ['AU7', 'AU20', 'looking_away']\n",
    "    for col in listIntToBool:\n",
    "        df[col] = df[col].astype('bool')\n",
    "        \n",
    "    listBB = ['FaceRectX', 'FaceRectY', 'FaceRectWidth', 'FaceRectHeight']\n",
    "    listLandmarks = ['x' + str(i) for i in range(68)] + ['y' + str(i) for i in range(68)]\n",
    "    listTime = ['Timestamp']\n",
    "    \n",
    "    listAUDiff = ['AU1_diff','AU2_diff','AU4_diff','AU5_diff','AU6_diff','AU7_diff','AU9_diff','AU10_diff','AU11_diff','AU12_diff',\n",
    "                'AU14_diff','AU15_diff','AU17_diff','AU20_diff','AU23_diff','AU24_diff','AU25_diff','AU26_diff','AU28_diff','AU43_diff']\n",
    "    listEmoDiff = ['disgust_diff','fear_diff','happiness_diff', 'anger_diff', 'sadness_diff','surprise_diff','neutral_diff','emotion_mirroring_diff']\n",
    "    \n",
    "    listEyes = ['eyeWidth', 'eyeHeight', 'mean_EAR', 'mean_pupil_ratio']\n",
    "    \n",
    "    listAU = ['AU1','AU2','AU4','AU5','AU6','AU7','AU9','AU10','AU11',\n",
    "              'AU12','AU14','AU15','AU17','AU20','AU23','AU24','AU25','AU26','AU28','AU43']\n",
    "    \n",
    "    listFaceDirection = ['Pitch', 'Yaw', 'Roll']\n",
    "    \n",
    "    listTest = ['disgust']\n",
    "    \n",
    "    ##      + listEmoDiff \n",
    "    totalcolumns = listBB + listLandmarks + listTime  + listEyes + listAU + listFaceDirection + listTest\n",
    "        \n",
    "    df = df.drop(columns = totalcolumns)\n",
    "    df = df[df['Label'] != 'x']\n",
    "    df = df[df['Label'] != 'skip']\n",
    "    df['Label'] = df['Label'].replace({'n': 0, 'no': 0, 'y': 1, 'yes': 1})\n",
    "    df = df.drop(columns=['pupil_direction', 'Person'])\n",
    "    \n",
    "    return df\n",
    "\n",
    "def create_chunks(df, chunk_size):\n",
    "    columnlist = ['EAR']\n",
    "    df_new = pd.DataFrame()\n",
    "    current_chunk = []\n",
    "    start_of_probe = -1\n",
    "\n",
    "    for _, row in df.iterrows():\n",
    "        if start_of_probe < 0 or (row['Frame'] - start_of_probe) >= 500:\n",
    "            # Finalize the current chunk, if there is one\n",
    "            if current_chunk:\n",
    "                chunk_df = pd.DataFrame(current_chunk)\n",
    "                chunk_summary = chunk_df.mean().to_dict()  # calculate mean for all columns\n",
    "                for col in columnlist:  # calculate quartiles and standard deviation for columns in columnlist\n",
    "                    chunk_summary.update({\n",
    "                        f'{col}_Q1': chunk_df[col].quantile(0.25),\n",
    "                        f'{col}_Q2': chunk_df[col].median(),\n",
    "                        f'{col}_Q3': chunk_df[col].quantile(0.75),\n",
    "                        f'{col}_SD': chunk_df[col].std(),\n",
    "                    })\n",
    "                chunk_summary['Label'] = chunk_df['Label'].values[-1]\n",
    "                df_new = df_new.append(chunk_summary, ignore_index=True)\n",
    "\n",
    "            # Start a new probe and a new chunk\n",
    "            start_of_probe = row['Frame']\n",
    "            current_chunk = [row]\n",
    "        elif len(current_chunk) == chunk_size:\n",
    "            # We have a complete chunk, so finalize it\n",
    "            chunk_df = pd.DataFrame(current_chunk)\n",
    "            chunk_summary = chunk_df.mean().to_dict()  # calculate mean for all columns\n",
    "            for col in columnlist:  # calculate quartiles and standard deviation for columns in columnlist\n",
    "                chunk_summary.update({\n",
    "                    f'{col}_Q1': chunk_df[col].quantile(0.25),\n",
    "                    f'{col}_Q2': chunk_df[col].median(),\n",
    "                    f'{col}_Q3': chunk_df[col].quantile(0.75),\n",
    "                    f'{col}_SD': chunk_df[col].std(),\n",
    "                })\n",
    "            chunk_summary['Label'] = chunk_df['Label'].values[-1]\n",
    "            df_new = df_new.append(chunk_summary, ignore_index=True)\n",
    "            current_chunk = [row]\n",
    "        else:\n",
    "            # Add the current row to the current chunk\n",
    "            current_chunk.append(row)\n",
    "            \n",
    "    # Finalize the last chunk, if there is one\n",
    "    if current_chunk:\n",
    "        chunk_df = pd.DataFrame(current_chunk)\n",
    "        chunk_summary = chunk_df.mean().to_dict()  # calculate mean for all columns\n",
    "        for col in columnlist:  # calculate quartiles and standard deviation for columns in columnlist\n",
    "            chunk_summary.update({\n",
    "                f'{col}_Q1': chunk_df[col].quantile(0.25),\n",
    "                f'{col}_Q2': chunk_df[col].median(),\n",
    "                f'{col}_Q3': chunk_df[col].quantile(0.75),\n",
    "                f'{col}_SD': chunk_df[col].std(),\n",
    "            })\n",
    "        chunk_summary['Label'] = chunk_df['Label'].values[-1]\n",
    "        df_new = df_new.append(chunk_summary, ignore_index=True)\n",
    "\n",
    "    return df_new\n",
    "\n",
    "def preprocess_and_chunk(filename, chunk_size):\n",
    "    df = pd.read_csv(filename)\n",
    "    mean_value = df['EAR'].iloc[:1000].mean()\n",
    "    df['calibrated_EAR'] = mean_value\n",
    "    df['pupil_deviation'] = abs(df['mean_pupil_ratio'] - df['pupil_ratio'])\n",
    "    df['EAR_deviation'] = abs(df['EAR'] - df['calibrated_EAR'])\n",
    "    df = preprocess(df)\n",
    "    df_chunks = create_chunks(df, chunk_size)\n",
    "    df_chunks = df_chunks.drop(columns='calibrated_EAR')\n",
    "    return df_chunks\n",
    "\n",
    "def checkForFullYes(filename):\n",
    "    df = pd.read_csv(filename)\n",
    "    counts = df['Label'].value_counts()\n",
    "    no_count = counts.get('no', 0)\n",
    "    n_count = counts.get('n', 0)\n",
    "    finalcount = no_count + n_count\n",
    "    #print(filename, finalcount)\n",
    "    return finalcount"
   ]
  },
  {
   "cell_type": "code",
   "execution_count": 4,
   "metadata": {},
   "outputs": [],
   "source": [
    "# filenames = [f\"finaldata/{i}.csv\" for i in range(1, 29)]  # [\"1.csv\", \"2.csv\", ..., \"12.csv\"]\n",
    "# dataframes = []\n",
    "\n",
    "# chunkBool = True\n",
    "# chunk_size = 25  \n",
    "\n",
    "# if chunkBool:\n",
    "#     for filename in filenames:\n",
    "#         # finalcount = checkForFullYes(filename)\n",
    "#         # if finalcount == 0:\n",
    "#         #     continue\n",
    "#         chunked_df = preprocess_and_chunk(filename, chunk_size)\n",
    "#         dataframes.append(chunked_df)\n",
    "    \n",
    "# else:\n",
    "#     for filename in filenames:\n",
    "#         df = pd.read_csv(filename)\n",
    "#         preprocessed_df = preprocess(df)\n",
    "#         dataframes.append(preprocessed_df)\n",
    "\n",
    "    \n",
    "# combined_df = pd.concat(dataframes, ignore_index=True)\n",
    "# X = combined_df.drop(columns=['Label', 'Frame'])\n",
    "# y = combined_df['Label']\n",
    "\n",
    "filenames = [f\"finaldata_500/{i}.csv\" for i in range(1, 39)]  # [\"1.csv\", \"2.csv\", ..., \"28.csv\"]\n",
    "\n",
    "# Specify which files you want for testing.\n",
    "test_indices = [5, 11, 23, 17, 8, 32, 37]  # Adjust these numbers based on your needs\n",
    "\n",
    "train_filenames = [f for i, f in enumerate(filenames, start=1) if i not in test_indices]\n",
    "test_filenames = [f for i, f in enumerate(filenames, start=1) if i in test_indices]\n",
    "\n",
    "dataframes_train = []\n",
    "dataframes_test = []\n",
    "\n",
    "chunkBool = True\n",
    "chunk_size = 50  \n",
    "\n",
    "if chunkBool:\n",
    "    for filename in train_filenames:\n",
    "        finalcount = checkForFullYes(filename)\n",
    "        if finalcount == 0:\n",
    "            continue        \n",
    "        chunked_df = preprocess_and_chunk(filename, chunk_size)\n",
    "        dataframes_train.append(chunked_df)\n",
    "    \n",
    "    for filename in test_filenames:\n",
    "        finalcount = checkForFullYes(filename)\n",
    "        if finalcount == 0:\n",
    "            continue          \n",
    "        chunked_df = preprocess_and_chunk(filename, chunk_size)\n",
    "        dataframes_test.append(chunked_df)\n",
    "else:\n",
    "    for filename in train_filenames:\n",
    "        df = pd.read_csv(filename)\n",
    "        preprocessed_df = preprocess(df)\n",
    "        dataframes_train.append(preprocessed_df)\n",
    "\n",
    "    for filename in test_filenames:\n",
    "        df = pd.read_csv(filename)\n",
    "        preprocessed_df = preprocess(df)\n",
    "        dataframes_test.append(preprocessed_df)\n",
    "    \n",
    "\n",
    "train_combined_df = pd.concat(dataframes_train, ignore_index=True)\n",
    "X_train = train_combined_df.drop(columns=['Label', 'Frame'])\n",
    "y_train = train_combined_df['Label']\n",
    "\n",
    "test_combined_df = pd.concat(dataframes_test, ignore_index=True)\n",
    "X_test = test_combined_df.drop(columns=['Label', 'Frame'])\n",
    "y_test = test_combined_df['Label']\n"
   ]
  },
  {
   "cell_type": "code",
   "execution_count": 5,
   "metadata": {},
   "outputs": [
    {
     "data": {
      "text/plain": [
       "1.0    928\n",
       "0.0    169\n",
       "Name: Label, dtype: int64"
      ]
     },
     "execution_count": 5,
     "metadata": {},
     "output_type": "execute_result"
    }
   ],
   "source": [
    "y_test.value_counts()\n",
    "\n",
    "\n",
    "# 1.00    1516\n",
    "# 0.00     240"
   ]
  },
  {
   "cell_type": "code",
   "execution_count": 6,
   "metadata": {},
   "outputs": [],
   "source": [
    "smote = SMOTE(random_state=42)\n"
   ]
  },
  {
   "cell_type": "code",
   "execution_count": 7,
   "metadata": {},
   "outputs": [
    {
     "name": "stdout",
     "output_type": "stream",
     "text": [
      "3957\n",
      "1.0    3208\n",
      "0.0     749\n",
      "Name: Label, dtype: int64\n"
     ]
    }
   ],
   "source": [
    "print(len(y_train))\n",
    "print(y_train.value_counts())\n",
    "## 5270, 1288"
   ]
  },
  {
   "cell_type": "code",
   "execution_count": 8,
   "metadata": {},
   "outputs": [],
   "source": [
    "X_train_filled = X_train.fillna(X_train.median())\n",
    "X_test_filled = X_test.fillna(X_train.median())"
   ]
  },
  {
   "cell_type": "code",
   "execution_count": 9,
   "metadata": {},
   "outputs": [
    {
     "name": "stdout",
     "output_type": "stream",
     "text": [
      "REGULAR xgboost, scale_weight:0.2334788029925187\n"
     ]
    },
    {
     "ename": "KeyboardInterrupt",
     "evalue": "",
     "output_type": "error",
     "traceback": [
      "\u001b[1;31m---------------------------------------------------------------------------\u001b[0m",
      "\u001b[1;31mKeyboardInterrupt\u001b[0m                         Traceback (most recent call last)",
      "\u001b[1;32md:\\fake desktop\\AccentureApplicatie\\zpredict.ipynb Cell 8\u001b[0m in \u001b[0;36m<cell line: 38>\u001b[1;34m()\u001b[0m\n\u001b[0;32m     <a href='vscode-notebook-cell:/d%3A/fake%20desktop/AccentureApplicatie/zpredict.ipynb#X10sZmlsZQ%3D%3D?line=52'>53</a>\u001b[0m \u001b[39mprint\u001b[39m(\u001b[39mf\u001b[39m\u001b[39m'\u001b[39m\u001b[39mREGULAR xgboost, scale_weight:\u001b[39m\u001b[39m{\u001b[39;00mscale_pos_weight\u001b[39m}\u001b[39;00m\u001b[39m'\u001b[39m)\n\u001b[0;32m     <a href='vscode-notebook-cell:/d%3A/fake%20desktop/AccentureApplicatie/zpredict.ipynb#X10sZmlsZQ%3D%3D?line=53'>54</a>\u001b[0m model \u001b[39m=\u001b[39m make_pipeline(rfecv, XGBClassifier(objective\u001b[39m=\u001b[39m\u001b[39m'\u001b[39m\u001b[39mbinary:logistic\u001b[39m\u001b[39m'\u001b[39m, random_state\u001b[39m=\u001b[39m\u001b[39m42\u001b[39m, scale_pos_weight\u001b[39m=\u001b[39m(scale_pos_weight\u001b[39m/\u001b[39m\u001b[39m3\u001b[39m), \n\u001b[0;32m     <a href='vscode-notebook-cell:/d%3A/fake%20desktop/AccentureApplicatie/zpredict.ipynb#X10sZmlsZQ%3D%3D?line=54'>55</a>\u001b[0m                           learning_rate\u001b[39m=\u001b[39m\u001b[39m0.12\u001b[39m, min_child_weight\u001b[39m=\u001b[39m\u001b[39m1\u001b[39m, max_delta_step\u001b[39m=\u001b[39m\u001b[39m5\u001b[39m,\n\u001b[0;32m     <a href='vscode-notebook-cell:/d%3A/fake%20desktop/AccentureApplicatie/zpredict.ipynb#X10sZmlsZQ%3D%3D?line=55'>56</a>\u001b[0m                           n_estimators \u001b[39m=\u001b[39m \u001b[39m200\u001b[39m))  \u001b[39m# Adjust hyperparameters as needed\u001b[39;00m\n\u001b[1;32m---> <a href='vscode-notebook-cell:/d%3A/fake%20desktop/AccentureApplicatie/zpredict.ipynb#X10sZmlsZQ%3D%3D?line=56'>57</a>\u001b[0m model\u001b[39m.\u001b[39;49mfit(X_train_filled, y_train)\n",
      "File \u001b[1;32mc:\\Users\\Ramon\\AppData\\Local\\Programs\\Python\\Python38\\lib\\site-packages\\sklearn\\pipeline.py:401\u001b[0m, in \u001b[0;36mPipeline.fit\u001b[1;34m(self, X, y, **fit_params)\u001b[0m\n\u001b[0;32m    375\u001b[0m \u001b[39m\"\"\"Fit the model.\u001b[39;00m\n\u001b[0;32m    376\u001b[0m \n\u001b[0;32m    377\u001b[0m \u001b[39mFit all the transformers one after the other and transform the\u001b[39;00m\n\u001b[1;32m   (...)\u001b[0m\n\u001b[0;32m    398\u001b[0m \u001b[39m    Pipeline with fitted steps.\u001b[39;00m\n\u001b[0;32m    399\u001b[0m \u001b[39m\"\"\"\u001b[39;00m\n\u001b[0;32m    400\u001b[0m fit_params_steps \u001b[39m=\u001b[39m \u001b[39mself\u001b[39m\u001b[39m.\u001b[39m_check_fit_params(\u001b[39m*\u001b[39m\u001b[39m*\u001b[39mfit_params)\n\u001b[1;32m--> 401\u001b[0m Xt \u001b[39m=\u001b[39m \u001b[39mself\u001b[39;49m\u001b[39m.\u001b[39;49m_fit(X, y, \u001b[39m*\u001b[39;49m\u001b[39m*\u001b[39;49mfit_params_steps)\n\u001b[0;32m    402\u001b[0m \u001b[39mwith\u001b[39;00m _print_elapsed_time(\u001b[39m\"\u001b[39m\u001b[39mPipeline\u001b[39m\u001b[39m\"\u001b[39m, \u001b[39mself\u001b[39m\u001b[39m.\u001b[39m_log_message(\u001b[39mlen\u001b[39m(\u001b[39mself\u001b[39m\u001b[39m.\u001b[39msteps) \u001b[39m-\u001b[39m \u001b[39m1\u001b[39m)):\n\u001b[0;32m    403\u001b[0m     \u001b[39mif\u001b[39;00m \u001b[39mself\u001b[39m\u001b[39m.\u001b[39m_final_estimator \u001b[39m!=\u001b[39m \u001b[39m\"\u001b[39m\u001b[39mpassthrough\u001b[39m\u001b[39m\"\u001b[39m:\n",
      "File \u001b[1;32mc:\\Users\\Ramon\\AppData\\Local\\Programs\\Python\\Python38\\lib\\site-packages\\sklearn\\pipeline.py:359\u001b[0m, in \u001b[0;36mPipeline._fit\u001b[1;34m(self, X, y, **fit_params_steps)\u001b[0m\n\u001b[0;32m    357\u001b[0m     cloned_transformer \u001b[39m=\u001b[39m clone(transformer)\n\u001b[0;32m    358\u001b[0m \u001b[39m# Fit or load from cache the current transformer\u001b[39;00m\n\u001b[1;32m--> 359\u001b[0m X, fitted_transformer \u001b[39m=\u001b[39m fit_transform_one_cached(\n\u001b[0;32m    360\u001b[0m     cloned_transformer,\n\u001b[0;32m    361\u001b[0m     X,\n\u001b[0;32m    362\u001b[0m     y,\n\u001b[0;32m    363\u001b[0m     \u001b[39mNone\u001b[39;49;00m,\n\u001b[0;32m    364\u001b[0m     message_clsname\u001b[39m=\u001b[39;49m\u001b[39m\"\u001b[39;49m\u001b[39mPipeline\u001b[39;49m\u001b[39m\"\u001b[39;49m,\n\u001b[0;32m    365\u001b[0m     message\u001b[39m=\u001b[39;49m\u001b[39mself\u001b[39;49m\u001b[39m.\u001b[39;49m_log_message(step_idx),\n\u001b[0;32m    366\u001b[0m     \u001b[39m*\u001b[39;49m\u001b[39m*\u001b[39;49mfit_params_steps[name],\n\u001b[0;32m    367\u001b[0m )\n\u001b[0;32m    368\u001b[0m \u001b[39m# Replace the transformer of the step with the fitted\u001b[39;00m\n\u001b[0;32m    369\u001b[0m \u001b[39m# transformer. This is necessary when loading the transformer\u001b[39;00m\n\u001b[0;32m    370\u001b[0m \u001b[39m# from the cache.\u001b[39;00m\n\u001b[0;32m    371\u001b[0m \u001b[39mself\u001b[39m\u001b[39m.\u001b[39msteps[step_idx] \u001b[39m=\u001b[39m (name, fitted_transformer)\n",
      "File \u001b[1;32mc:\\Users\\Ramon\\AppData\\Local\\Programs\\Python\\Python38\\lib\\site-packages\\joblib\\memory.py:349\u001b[0m, in \u001b[0;36mNotMemorizedFunc.__call__\u001b[1;34m(self, *args, **kwargs)\u001b[0m\n\u001b[0;32m    348\u001b[0m \u001b[39mdef\u001b[39;00m \u001b[39m__call__\u001b[39m(\u001b[39mself\u001b[39m, \u001b[39m*\u001b[39margs, \u001b[39m*\u001b[39m\u001b[39m*\u001b[39mkwargs):\n\u001b[1;32m--> 349\u001b[0m     \u001b[39mreturn\u001b[39;00m \u001b[39mself\u001b[39;49m\u001b[39m.\u001b[39;49mfunc(\u001b[39m*\u001b[39;49margs, \u001b[39m*\u001b[39;49m\u001b[39m*\u001b[39;49mkwargs)\n",
      "File \u001b[1;32mc:\\Users\\Ramon\\AppData\\Local\\Programs\\Python\\Python38\\lib\\site-packages\\sklearn\\pipeline.py:893\u001b[0m, in \u001b[0;36m_fit_transform_one\u001b[1;34m(transformer, X, y, weight, message_clsname, message, **fit_params)\u001b[0m\n\u001b[0;32m    891\u001b[0m \u001b[39mwith\u001b[39;00m _print_elapsed_time(message_clsname, message):\n\u001b[0;32m    892\u001b[0m     \u001b[39mif\u001b[39;00m \u001b[39mhasattr\u001b[39m(transformer, \u001b[39m\"\u001b[39m\u001b[39mfit_transform\u001b[39m\u001b[39m\"\u001b[39m):\n\u001b[1;32m--> 893\u001b[0m         res \u001b[39m=\u001b[39m transformer\u001b[39m.\u001b[39;49mfit_transform(X, y, \u001b[39m*\u001b[39;49m\u001b[39m*\u001b[39;49mfit_params)\n\u001b[0;32m    894\u001b[0m     \u001b[39melse\u001b[39;00m:\n\u001b[0;32m    895\u001b[0m         res \u001b[39m=\u001b[39m transformer\u001b[39m.\u001b[39mfit(X, y, \u001b[39m*\u001b[39m\u001b[39m*\u001b[39mfit_params)\u001b[39m.\u001b[39mtransform(X)\n",
      "File \u001b[1;32mc:\\Users\\Ramon\\AppData\\Local\\Programs\\Python\\Python38\\lib\\site-packages\\sklearn\\utils\\_set_output.py:140\u001b[0m, in \u001b[0;36m_wrap_method_output.<locals>.wrapped\u001b[1;34m(self, X, *args, **kwargs)\u001b[0m\n\u001b[0;32m    138\u001b[0m \u001b[39m@wraps\u001b[39m(f)\n\u001b[0;32m    139\u001b[0m \u001b[39mdef\u001b[39;00m \u001b[39mwrapped\u001b[39m(\u001b[39mself\u001b[39m, X, \u001b[39m*\u001b[39margs, \u001b[39m*\u001b[39m\u001b[39m*\u001b[39mkwargs):\n\u001b[1;32m--> 140\u001b[0m     data_to_wrap \u001b[39m=\u001b[39m f(\u001b[39mself\u001b[39;49m, X, \u001b[39m*\u001b[39;49margs, \u001b[39m*\u001b[39;49m\u001b[39m*\u001b[39;49mkwargs)\n\u001b[0;32m    141\u001b[0m     \u001b[39mif\u001b[39;00m \u001b[39misinstance\u001b[39m(data_to_wrap, \u001b[39mtuple\u001b[39m):\n\u001b[0;32m    142\u001b[0m         \u001b[39m# only wrap the first output for cross decomposition\u001b[39;00m\n\u001b[0;32m    143\u001b[0m         \u001b[39mreturn\u001b[39;00m (\n\u001b[0;32m    144\u001b[0m             _wrap_data_with_container(method, data_to_wrap[\u001b[39m0\u001b[39m], X, \u001b[39mself\u001b[39m),\n\u001b[0;32m    145\u001b[0m             \u001b[39m*\u001b[39mdata_to_wrap[\u001b[39m1\u001b[39m:],\n\u001b[0;32m    146\u001b[0m         )\n",
      "File \u001b[1;32mc:\\Users\\Ramon\\AppData\\Local\\Programs\\Python\\Python38\\lib\\site-packages\\sklearn\\base.py:881\u001b[0m, in \u001b[0;36mTransformerMixin.fit_transform\u001b[1;34m(self, X, y, **fit_params)\u001b[0m\n\u001b[0;32m    878\u001b[0m     \u001b[39mreturn\u001b[39;00m \u001b[39mself\u001b[39m\u001b[39m.\u001b[39mfit(X, \u001b[39m*\u001b[39m\u001b[39m*\u001b[39mfit_params)\u001b[39m.\u001b[39mtransform(X)\n\u001b[0;32m    879\u001b[0m \u001b[39melse\u001b[39;00m:\n\u001b[0;32m    880\u001b[0m     \u001b[39m# fit method of arity 2 (supervised transformation)\u001b[39;00m\n\u001b[1;32m--> 881\u001b[0m     \u001b[39mreturn\u001b[39;00m \u001b[39mself\u001b[39;49m\u001b[39m.\u001b[39;49mfit(X, y, \u001b[39m*\u001b[39;49m\u001b[39m*\u001b[39;49mfit_params)\u001b[39m.\u001b[39mtransform(X)\n",
      "File \u001b[1;32mc:\\Users\\Ramon\\AppData\\Local\\Programs\\Python\\Python38\\lib\\site-packages\\sklearn\\feature_selection\\_rfe.py:725\u001b[0m, in \u001b[0;36mRFECV.fit\u001b[1;34m(self, X, y, groups)\u001b[0m\n\u001b[0;32m    722\u001b[0m     parallel \u001b[39m=\u001b[39m Parallel(n_jobs\u001b[39m=\u001b[39m\u001b[39mself\u001b[39m\u001b[39m.\u001b[39mn_jobs)\n\u001b[0;32m    723\u001b[0m     func \u001b[39m=\u001b[39m delayed(_rfe_single_fit)\n\u001b[1;32m--> 725\u001b[0m scores \u001b[39m=\u001b[39m parallel(\n\u001b[0;32m    726\u001b[0m     func(rfe, \u001b[39mself\u001b[39;49m\u001b[39m.\u001b[39;49mestimator, X, y, train, test, scorer)\n\u001b[0;32m    727\u001b[0m     \u001b[39mfor\u001b[39;49;00m train, test \u001b[39min\u001b[39;49;00m cv\u001b[39m.\u001b[39;49msplit(X, y, groups)\n\u001b[0;32m    728\u001b[0m )\n\u001b[0;32m    730\u001b[0m scores \u001b[39m=\u001b[39m np\u001b[39m.\u001b[39marray(scores)\n\u001b[0;32m    731\u001b[0m scores_sum \u001b[39m=\u001b[39m np\u001b[39m.\u001b[39msum(scores, axis\u001b[39m=\u001b[39m\u001b[39m0\u001b[39m)\n",
      "File \u001b[1;32mc:\\Users\\Ramon\\AppData\\Local\\Programs\\Python\\Python38\\lib\\site-packages\\sklearn\\feature_selection\\_rfe.py:726\u001b[0m, in \u001b[0;36m<genexpr>\u001b[1;34m(.0)\u001b[0m\n\u001b[0;32m    722\u001b[0m     parallel \u001b[39m=\u001b[39m Parallel(n_jobs\u001b[39m=\u001b[39m\u001b[39mself\u001b[39m\u001b[39m.\u001b[39mn_jobs)\n\u001b[0;32m    723\u001b[0m     func \u001b[39m=\u001b[39m delayed(_rfe_single_fit)\n\u001b[0;32m    725\u001b[0m scores \u001b[39m=\u001b[39m parallel(\n\u001b[1;32m--> 726\u001b[0m     func(rfe, \u001b[39mself\u001b[39;49m\u001b[39m.\u001b[39;49mestimator, X, y, train, test, scorer)\n\u001b[0;32m    727\u001b[0m     \u001b[39mfor\u001b[39;00m train, test \u001b[39min\u001b[39;00m cv\u001b[39m.\u001b[39msplit(X, y, groups)\n\u001b[0;32m    728\u001b[0m )\n\u001b[0;32m    730\u001b[0m scores \u001b[39m=\u001b[39m np\u001b[39m.\u001b[39marray(scores)\n\u001b[0;32m    731\u001b[0m scores_sum \u001b[39m=\u001b[39m np\u001b[39m.\u001b[39msum(scores, axis\u001b[39m=\u001b[39m\u001b[39m0\u001b[39m)\n",
      "File \u001b[1;32mc:\\Users\\Ramon\\AppData\\Local\\Programs\\Python\\Python38\\lib\\site-packages\\sklearn\\feature_selection\\_rfe.py:37\u001b[0m, in \u001b[0;36m_rfe_single_fit\u001b[1;34m(rfe, estimator, X, y, train, test, scorer)\u001b[0m\n\u001b[0;32m     35\u001b[0m X_train, y_train \u001b[39m=\u001b[39m _safe_split(estimator, X, y, train)\n\u001b[0;32m     36\u001b[0m X_test, y_test \u001b[39m=\u001b[39m _safe_split(estimator, X, y, test, train)\n\u001b[1;32m---> 37\u001b[0m \u001b[39mreturn\u001b[39;00m rfe\u001b[39m.\u001b[39;49m_fit(\n\u001b[0;32m     38\u001b[0m     X_train,\n\u001b[0;32m     39\u001b[0m     y_train,\n\u001b[0;32m     40\u001b[0m     \u001b[39mlambda\u001b[39;49;00m estimator, features: _score(\n\u001b[0;32m     41\u001b[0m         estimator, X_test[:, features], y_test, scorer\n\u001b[0;32m     42\u001b[0m     ),\n\u001b[0;32m     43\u001b[0m )\u001b[39m.\u001b[39mscores_\n",
      "File \u001b[1;32mc:\\Users\\Ramon\\AppData\\Local\\Programs\\Python\\Python38\\lib\\site-packages\\sklearn\\feature_selection\\_rfe.py:299\u001b[0m, in \u001b[0;36mRFE._fit\u001b[1;34m(self, X, y, step_score, **fit_params)\u001b[0m\n\u001b[0;32m    296\u001b[0m \u001b[39mif\u001b[39;00m \u001b[39mself\u001b[39m\u001b[39m.\u001b[39mverbose \u001b[39m>\u001b[39m \u001b[39m0\u001b[39m:\n\u001b[0;32m    297\u001b[0m     \u001b[39mprint\u001b[39m(\u001b[39m\"\u001b[39m\u001b[39mFitting estimator with \u001b[39m\u001b[39m%d\u001b[39;00m\u001b[39m features.\u001b[39m\u001b[39m\"\u001b[39m \u001b[39m%\u001b[39m np\u001b[39m.\u001b[39msum(support_))\n\u001b[1;32m--> 299\u001b[0m estimator\u001b[39m.\u001b[39;49mfit(X[:, features], y, \u001b[39m*\u001b[39;49m\u001b[39m*\u001b[39;49mfit_params)\n\u001b[0;32m    301\u001b[0m \u001b[39m# Get importance and rank them\u001b[39;00m\n\u001b[0;32m    302\u001b[0m importances \u001b[39m=\u001b[39m _get_feature_importances(\n\u001b[0;32m    303\u001b[0m     estimator,\n\u001b[0;32m    304\u001b[0m     \u001b[39mself\u001b[39m\u001b[39m.\u001b[39mimportance_getter,\n\u001b[0;32m    305\u001b[0m     transform_func\u001b[39m=\u001b[39m\u001b[39m\"\u001b[39m\u001b[39msquare\u001b[39m\u001b[39m\"\u001b[39m,\n\u001b[0;32m    306\u001b[0m )\n",
      "File \u001b[1;32mc:\\Users\\Ramon\\AppData\\Local\\Programs\\Python\\Python38\\lib\\site-packages\\xgboost\\core.py:620\u001b[0m, in \u001b[0;36mrequire_keyword_args.<locals>.throw_if.<locals>.inner_f\u001b[1;34m(*args, **kwargs)\u001b[0m\n\u001b[0;32m    618\u001b[0m \u001b[39mfor\u001b[39;00m k, arg \u001b[39min\u001b[39;00m \u001b[39mzip\u001b[39m(sig\u001b[39m.\u001b[39mparameters, args):\n\u001b[0;32m    619\u001b[0m     kwargs[k] \u001b[39m=\u001b[39m arg\n\u001b[1;32m--> 620\u001b[0m \u001b[39mreturn\u001b[39;00m func(\u001b[39m*\u001b[39;49m\u001b[39m*\u001b[39;49mkwargs)\n",
      "File \u001b[1;32mc:\\Users\\Ramon\\AppData\\Local\\Programs\\Python\\Python38\\lib\\site-packages\\xgboost\\sklearn.py:1516\u001b[0m, in \u001b[0;36mXGBClassifier.fit\u001b[1;34m(self, X, y, sample_weight, base_margin, eval_set, eval_metric, early_stopping_rounds, verbose, xgb_model, sample_weight_eval_set, base_margin_eval_set, feature_weights, callbacks)\u001b[0m\n\u001b[0;32m   1488\u001b[0m (\n\u001b[0;32m   1489\u001b[0m     model,\n\u001b[0;32m   1490\u001b[0m     metric,\n\u001b[1;32m   (...)\u001b[0m\n\u001b[0;32m   1495\u001b[0m     xgb_model, eval_metric, params, early_stopping_rounds, callbacks\n\u001b[0;32m   1496\u001b[0m )\n\u001b[0;32m   1497\u001b[0m train_dmatrix, evals \u001b[39m=\u001b[39m _wrap_evaluation_matrices(\n\u001b[0;32m   1498\u001b[0m     missing\u001b[39m=\u001b[39m\u001b[39mself\u001b[39m\u001b[39m.\u001b[39mmissing,\n\u001b[0;32m   1499\u001b[0m     X\u001b[39m=\u001b[39mX,\n\u001b[1;32m   (...)\u001b[0m\n\u001b[0;32m   1513\u001b[0m     feature_types\u001b[39m=\u001b[39m\u001b[39mself\u001b[39m\u001b[39m.\u001b[39mfeature_types,\n\u001b[0;32m   1514\u001b[0m )\n\u001b[1;32m-> 1516\u001b[0m \u001b[39mself\u001b[39m\u001b[39m.\u001b[39m_Booster \u001b[39m=\u001b[39m train(\n\u001b[0;32m   1517\u001b[0m     params,\n\u001b[0;32m   1518\u001b[0m     train_dmatrix,\n\u001b[0;32m   1519\u001b[0m     \u001b[39mself\u001b[39;49m\u001b[39m.\u001b[39;49mget_num_boosting_rounds(),\n\u001b[0;32m   1520\u001b[0m     evals\u001b[39m=\u001b[39;49mevals,\n\u001b[0;32m   1521\u001b[0m     early_stopping_rounds\u001b[39m=\u001b[39;49mearly_stopping_rounds,\n\u001b[0;32m   1522\u001b[0m     evals_result\u001b[39m=\u001b[39;49mevals_result,\n\u001b[0;32m   1523\u001b[0m     obj\u001b[39m=\u001b[39;49mobj,\n\u001b[0;32m   1524\u001b[0m     custom_metric\u001b[39m=\u001b[39;49mmetric,\n\u001b[0;32m   1525\u001b[0m     verbose_eval\u001b[39m=\u001b[39;49mverbose,\n\u001b[0;32m   1526\u001b[0m     xgb_model\u001b[39m=\u001b[39;49mmodel,\n\u001b[0;32m   1527\u001b[0m     callbacks\u001b[39m=\u001b[39;49mcallbacks,\n\u001b[0;32m   1528\u001b[0m )\n\u001b[0;32m   1530\u001b[0m \u001b[39mif\u001b[39;00m \u001b[39mnot\u001b[39;00m callable(\u001b[39mself\u001b[39m\u001b[39m.\u001b[39mobjective):\n\u001b[0;32m   1531\u001b[0m     \u001b[39mself\u001b[39m\u001b[39m.\u001b[39mobjective \u001b[39m=\u001b[39m params[\u001b[39m\"\u001b[39m\u001b[39mobjective\u001b[39m\u001b[39m\"\u001b[39m]\n",
      "File \u001b[1;32mc:\\Users\\Ramon\\AppData\\Local\\Programs\\Python\\Python38\\lib\\site-packages\\xgboost\\core.py:620\u001b[0m, in \u001b[0;36mrequire_keyword_args.<locals>.throw_if.<locals>.inner_f\u001b[1;34m(*args, **kwargs)\u001b[0m\n\u001b[0;32m    618\u001b[0m \u001b[39mfor\u001b[39;00m k, arg \u001b[39min\u001b[39;00m \u001b[39mzip\u001b[39m(sig\u001b[39m.\u001b[39mparameters, args):\n\u001b[0;32m    619\u001b[0m     kwargs[k] \u001b[39m=\u001b[39m arg\n\u001b[1;32m--> 620\u001b[0m \u001b[39mreturn\u001b[39;00m func(\u001b[39m*\u001b[39;49m\u001b[39m*\u001b[39;49mkwargs)\n",
      "File \u001b[1;32mc:\\Users\\Ramon\\AppData\\Local\\Programs\\Python\\Python38\\lib\\site-packages\\xgboost\\training.py:185\u001b[0m, in \u001b[0;36mtrain\u001b[1;34m(params, dtrain, num_boost_round, evals, obj, feval, maximize, early_stopping_rounds, evals_result, verbose_eval, xgb_model, callbacks, custom_metric)\u001b[0m\n\u001b[0;32m    183\u001b[0m \u001b[39mif\u001b[39;00m cb_container\u001b[39m.\u001b[39mbefore_iteration(bst, i, dtrain, evals):\n\u001b[0;32m    184\u001b[0m     \u001b[39mbreak\u001b[39;00m\n\u001b[1;32m--> 185\u001b[0m bst\u001b[39m.\u001b[39;49mupdate(dtrain, i, obj)\n\u001b[0;32m    186\u001b[0m \u001b[39mif\u001b[39;00m cb_container\u001b[39m.\u001b[39mafter_iteration(bst, i, dtrain, evals):\n\u001b[0;32m    187\u001b[0m     \u001b[39mbreak\u001b[39;00m\n",
      "File \u001b[1;32mc:\\Users\\Ramon\\AppData\\Local\\Programs\\Python\\Python38\\lib\\site-packages\\xgboost\\core.py:1918\u001b[0m, in \u001b[0;36mBooster.update\u001b[1;34m(self, dtrain, iteration, fobj)\u001b[0m\n\u001b[0;32m   1915\u001b[0m \u001b[39mself\u001b[39m\u001b[39m.\u001b[39m_validate_dmatrix_features(dtrain)\n\u001b[0;32m   1917\u001b[0m \u001b[39mif\u001b[39;00m fobj \u001b[39mis\u001b[39;00m \u001b[39mNone\u001b[39;00m:\n\u001b[1;32m-> 1918\u001b[0m     _check_call(_LIB\u001b[39m.\u001b[39;49mXGBoosterUpdateOneIter(\u001b[39mself\u001b[39;49m\u001b[39m.\u001b[39;49mhandle,\n\u001b[0;32m   1919\u001b[0m                                             ctypes\u001b[39m.\u001b[39;49mc_int(iteration),\n\u001b[0;32m   1920\u001b[0m                                             dtrain\u001b[39m.\u001b[39;49mhandle))\n\u001b[0;32m   1921\u001b[0m \u001b[39melse\u001b[39;00m:\n\u001b[0;32m   1922\u001b[0m     pred \u001b[39m=\u001b[39m \u001b[39mself\u001b[39m\u001b[39m.\u001b[39mpredict(dtrain, output_margin\u001b[39m=\u001b[39m\u001b[39mTrue\u001b[39;00m, training\u001b[39m=\u001b[39m\u001b[39mTrue\u001b[39;00m)\n",
      "\u001b[1;31mKeyboardInterrupt\u001b[0m: "
     ]
    }
   ],
   "source": [
    "# from imblearn.under_sampling import NearMiss\n",
    "\n",
    "# smoteBool = 0\n",
    "# undersampleBool = 0\n",
    "\n",
    "# if smoteBool:\n",
    "#     print('SMOTE xgboost')\n",
    "#     X_train_smote, y_train_smote = smote.fit_resample(X_train_filled, y_train)\n",
    "#     scale_pos_weight = len(y_train_smote[y_train_smote == 0]) / len(y_train_smote[y_train_smote == 1])\n",
    "#     model = xgb.XGBClassifier(objective='binary:logistic', random_state=42, scale_pos_weight=scale_pos_weight)  # Adjust hyperparameters as needed\n",
    "#     model.fit(X_train_smote, y_train_smote)\n",
    "# elif undersampleBool:\n",
    "#     print('UNDERSAMPLE xgboost')\n",
    "#     nm = NearMiss()\n",
    "#     X_train_filled, y_train = nm.fit_resample(X_train_filled, y_train)\n",
    "#     scale_pos_weight = len(y_train[y_train == 0]) / len(y_train[y_train == 1])\n",
    "#     model = xgb.XGBClassifier(objective='binary:logistic', random_state=42, scale_pos_weight=scale_pos_weight)  # Adjust hyperparameters as needed\n",
    "#     model.fit(X_train_filled, y_train)\n",
    "# else:\n",
    "#     scale_pos_weight = len(y_train[y_train == 0]) / len(y_train[y_train == 1])\n",
    "#     print(f'REGULAR xgboost, scale_weight:{scale_pos_weight}')\n",
    "#     model = xgb.XGBClassifier(objective='binary:logistic', random_state=42, scale_pos_weight=(scale_pos_weight/3), \n",
    "#                               learning_rate=0.12, min_child_weight=1, max_delta_step=5,\n",
    "#                               n_estimators = 200)  # Adjust hyperparameters as needed\n",
    "#     model.fit(X_train_filled, y_train)\n",
    "\n",
    "from imblearn.under_sampling import NearMiss\n",
    "from sklearn.feature_selection import RFECV\n",
    "from sklearn.model_selection import StratifiedKFold\n",
    "from xgboost import XGBClassifier\n",
    "from sklearn.pipeline import make_pipeline\n",
    "\n",
    "smoteBool = 0\n",
    "undersampleBool = 0\n",
    "\n",
    "rfecv = RFECV(estimator=XGBClassifier(), step=1, cv=StratifiedKFold(5), scoring='f1_weighted')\n",
    "\n",
    "if smoteBool:\n",
    "    print('SMOTE xgboost')\n",
    "    X_train_smote, y_train_smote = smote.fit_resample(X_train_filled, y_train)\n",
    "    scale_pos_weight = len(y_train_smote[y_train_smote == 0]) / len(y_train_smote[y_train_smote == 1])\n",
    "    model = make_pipeline(rfecv, XGBClassifier(objective='binary:logistic', random_state=42, scale_pos_weight=scale_pos_weight))  # Adjust hyperparameters as needed\n",
    "    model.fit(X_train_smote, y_train_smote)\n",
    "elif undersampleBool:\n",
    "    print('UNDERSAMPLE xgboost')\n",
    "    nm = NearMiss()\n",
    "    X_train_filled, y_train = nm.fit_resample(X_train_filled, y_train)\n",
    "    scale_pos_weight = len(y_train[y_train == 0]) / len(y_train[y_train == 1])\n",
    "    model = make_pipeline(rfecv, XGBClassifier(objective='binary:logistic', random_state=42, scale_pos_weight=scale_pos_weight))  # Adjust hyperparameters as needed\n",
    "    model.fit(X_train_filled, y_train)\n",
    "else:\n",
    "    scale_pos_weight = len(y_train[y_train == 0]) / len(y_train[y_train == 1])\n",
    "    print(f'REGULAR xgboost, scale_weight:{scale_pos_weight}')\n",
    "    model = make_pipeline(rfecv, XGBClassifier(objective='binary:logistic', random_state=42, scale_pos_weight=(scale_pos_weight/3), \n",
    "                              learning_rate=0.12, min_child_weight=1, max_delta_step=5,\n",
    "                              n_estimators = 200))  # Adjust hyperparameters as needed\n",
    "    model.fit(X_train_filled, y_train)\n"
   ]
  },
  {
   "cell_type": "code",
   "execution_count": 9,
   "metadata": {},
   "outputs": [],
   "source": [
    "from sklearn import svm\n",
    "from sklearn.preprocessing import StandardScaler\n",
    "from sklearn.pipeline import make_pipeline\n",
    "\n",
    "# Standardize the features\n",
    "scaler = StandardScaler()\n",
    "# Create a pipeline: standardize, then run SVM\n",
    "svm_clf = make_pipeline(scaler, svm.SVC(class_weight='balanced', random_state=42, probability=1))\n",
    "\n",
    "# Fit the SVM model\n",
    "if smoteBool:\n",
    "    svm_clf.fit(X_train_smote, y_train_smote)\n",
    "    y_pred_svm = svm_clf.predict(X_test_filled)\n",
    "else:\n",
    "    pass\n",
    "    svm_clf.fit(X_train_filled, y_train)\n",
    "    y_pred_svm = svm_clf.predict(X_test_filled)\n"
   ]
  },
  {
   "cell_type": "code",
   "execution_count": 10,
   "metadata": {},
   "outputs": [
    {
     "name": "stdout",
     "output_type": "stream",
     "text": [
      "3957\n",
      "--------- XGB ------------\n",
      "Accuracy: 75.93%\n",
      "              precision    recall  f1-score   support\n",
      "\n",
      "         0.0       0.28      0.36      0.32       169\n",
      "         1.0       0.88      0.83      0.85       928\n",
      "\n",
      "    accuracy                           0.76      1097\n",
      "   macro avg       0.58      0.60      0.59      1097\n",
      "weighted avg       0.79      0.76      0.77      1097\n",
      "\n",
      "Confusion Matrix:\n",
      "[[ 61 108]\n",
      " [156 772]]\n",
      "------------SVM-------------\n",
      "Accuracy: 61.80%\n",
      "              precision    recall  f1-score   support\n",
      "\n",
      "         0.0       0.23      0.64      0.34       169\n",
      "         1.0       0.90      0.61      0.73       928\n",
      "\n",
      "    accuracy                           0.62      1097\n",
      "   macro avg       0.57      0.63      0.54      1097\n",
      "weighted avg       0.80      0.62      0.67      1097\n",
      "\n",
      "Confusion Matrix:\n",
      "[[109  60]\n",
      " [359 569]]\n",
      "------------XGB-PROBA--------------\n",
      "AUROC: 0.65\n"
     ]
    }
   ],
   "source": [
    "print(len(X_train_filled))\n",
    "\n",
    "y_pred = model.predict(X_test_filled)\n",
    "print('--------- XGB ------------')\n",
    "accuracy = accuracy_score(y_test, y_pred)\n",
    "print(\"Accuracy: %.2f%%\" % (accuracy * 100.0))\n",
    "print(classification_report(y_test, y_pred))\n",
    "\n",
    "cm = confusion_matrix(y_test, y_pred)\n",
    "print(\"Confusion Matrix:\")\n",
    "print(cm)\n",
    "\n",
    "print('------------SVM-------------')\n",
    "accuracy = accuracy_score(y_test, y_pred_svm)\n",
    "print(\"Accuracy: %.2f%%\" % (accuracy * 100.0))\n",
    "print(classification_report(y_test, y_pred_svm))\n",
    "\n",
    "cm = confusion_matrix(y_test, y_pred_svm)\n",
    "print(\"Confusion Matrix:\")\n",
    "print(cm)\n",
    "\n",
    "\n",
    "print('------------XGB-PROBA--------------')\n",
    "y_pred_proba = model.predict_proba(X_test_filled)[:,1]\n",
    "\n",
    "auroc = roc_auc_score(y_test, y_pred_proba)\n",
    "\n",
    "print(\"AUROC: %.2f\" % auroc)\n",
    "\n",
    "## best = 0.27 f1 met svm\n",
    "## auroc = 0.68\n",
    "\n",
    "\n",
    "## 21 15\n",
    "## 20-89 and 33-74\n",
    "## nu 27-90 en 35-73\n",
    "\n",
    "## Confusion Matrix xgb:\n",
    "# [[  63  215]\n",
    "#  [ 129 1571]]\n",
    "# Confusion Matrix svm:\n",
    "# [[ 205   73]\n",
    "#  [ 681 1019]]"
   ]
  },
  {
   "cell_type": "code",
   "execution_count": 11,
   "metadata": {},
   "outputs": [
    {
     "name": "stderr",
     "output_type": "stream",
     "text": [
      "ntree_limit is deprecated, use `iteration_range` or model slicing instead.\n"
     ]
    },
    {
     "data": {
      "image/png": "[encoded data removed]",
      "text/plain": [
       "<Figure size 576x540 with 2 Axes>"
      ]
     },
     "metadata": {
      "needs_background": "light"
     },
     "output_type": "display_data"
    }
   ],
   "source": [
    "import shap\n",
    "\n",
    "# Create object that can calculate shap values\n",
    "explainer = shap.TreeExplainer(model)\n",
    "\n",
    "# Define the number of samples you want\n",
    "num_samples = 350\n",
    "\n",
    "# Calculate Shap values\n",
    "if smoteBool:\n",
    "    print('smote')\n",
    "    sample = X_train_smote.sample(n=num_samples, random_state=42, replace=True)\n",
    "    shap_values = explainer.shap_values(sample)\n",
    "    shap.summary_plot(shap_values, sample)\n",
    "else:\n",
    "    sample = X_train_filled.sample(n=num_samples, random_state=42, replace=True)\n",
    "    shap_values = explainer.shap_values(sample)\n",
    "    shap.summary_plot(shap_values, sample, max_display=15)\n"
   ]
  },
  {
   "cell_type": "code",
   "execution_count": 12,
   "metadata": {},
   "outputs": [
    {
     "name": "stderr",
     "output_type": "stream",
     "text": [
      "100%|██████████| 29/29 [00:24<00:00,  1.19it/s]"
     ]
    },
    {
     "name": "stdout",
     "output_type": "stream",
     "text": [
      "                               Accuracy  Balanced Accuracy  ROC AUC  F1 Score  \\\n",
      "Model                                                                           \n",
      "LinearSVC                          0.58               0.65     0.65      0.63   \n",
      "LinearDiscriminantAnalysis         0.58               0.63     0.63      0.64   \n",
      "SVC                                0.64               0.63     0.63      0.69   \n",
      "RidgeClassifierCV                  0.58               0.63     0.63      0.63   \n",
      "LogisticRegression                 0.58               0.63     0.63      0.64   \n",
      "RidgeClassifier                    0.58               0.63     0.63      0.64   \n",
      "BernoulliNB                        0.61               0.62     0.62      0.66   \n",
      "CalibratedClassifierCV             0.55               0.61     0.61      0.61   \n",
      "AdaBoostClassifier                 0.78               0.61     0.61      0.79   \n",
      "NearestCentroid                    0.57               0.60     0.60      0.63   \n",
      "SGDClassifier                      0.58               0.60     0.60      0.64   \n",
      "KNeighborsClassifier               0.58               0.58     0.58      0.64   \n",
      "DecisionTreeClassifier             0.70               0.58     0.58      0.73   \n",
      "RandomForestClassifier             0.82               0.57     0.57      0.80   \n",
      "PassiveAggressiveClassifier        0.57               0.57     0.57      0.63   \n",
      "NuSVC                              0.70               0.57     0.57      0.73   \n",
      "LGBMClassifier                     0.82               0.56     0.56      0.80   \n",
      "LabelSpreading                     0.60               0.56     0.56      0.66   \n",
      "LabelPropagation                   0.60               0.56     0.56      0.66   \n",
      "XGBClassifier                      0.82               0.56     0.56      0.80   \n",
      "BaggingClassifier                  0.73               0.55     0.55      0.75   \n",
      "QuadraticDiscriminantAnalysis      0.32               0.55     0.55      0.34   \n",
      "Perceptron                         0.58               0.54     0.54      0.64   \n",
      "ExtraTreeClassifier                0.71               0.54     0.54      0.73   \n",
      "GaussianNB                         0.30               0.54     0.54      0.31   \n",
      "ExtraTreesClassifier               0.83               0.53     0.53      0.79   \n",
      "DummyClassifier                    0.15               0.50     0.50      0.04   \n",
      "\n",
      "                               Time Taken  \n",
      "Model                                      \n",
      "LinearSVC                            0.72  \n",
      "LinearDiscriminantAnalysis           0.08  \n",
      "SVC                                  2.32  \n",
      "RidgeClassifierCV                    0.05  \n",
      "LogisticRegression                   0.14  \n",
      "RidgeClassifier                      0.04  \n",
      "BernoulliNB                          0.03  \n",
      "CalibratedClassifierCV               2.88  \n",
      "AdaBoostClassifier                   1.83  \n",
      "NearestCentroid                      0.02  \n",
      "SGDClassifier                        0.07  \n",
      "KNeighborsClassifier                 0.10  \n",
      "DecisionTreeClassifier               0.28  \n",
      "RandomForestClassifier               4.25  \n",
      "PassiveAggressiveClassifier          0.03  \n",
      "NuSVC                                3.02  \n",
      "LGBMClassifier                       0.25  \n",
      "LabelSpreading                       2.03  \n",
      "LabelPropagation                     1.61  \n",
      "XGBClassifier                        0.86  \n",
      "BaggingClassifier                    2.67  \n",
      "QuadraticDiscriminantAnalysis        0.07  \n",
      "Perceptron                           0.03  \n",
      "ExtraTreeClassifier                  0.03  \n",
      "GaussianNB                           0.03  \n",
      "ExtraTreesClassifier                 0.84  \n",
      "DummyClassifier                      0.02  \n"
     ]
    },
    {
     "name": "stderr",
     "output_type": "stream",
     "text": [
      "\n"
     ]
    }
   ],
   "source": [
    "from lazypredict.Supervised import LazyClassifier\n",
    "from sklearn.model_selection import train_test_split\n",
    "import pandas as pd\n",
    "\n",
    "X_train_smote, y_train_smote = smote.fit_resample(X_train_filled, y_train)\n",
    "\n",
    "clf = LazyClassifier(verbose=0,ignore_warnings=True, custom_metric=None)\n",
    "models,predictions = clf.fit(X_train_smote, X_test_filled, y_train_smote, y_test)\n",
    "\n",
    "# Prints the model performance\n",
    "print(models)"
   ]
  },
  {
   "cell_type": "code",
   "execution_count": null,
   "metadata": {},
   "outputs": [],
   "source": []
  },
  {
   "cell_type": "code",
   "execution_count": 13,
   "metadata": {},
   "outputs": [],
   "source": [
    "# ###Create a background dataset (you can also use a subset of your train dataset)\n",
    "# background_data = X_train_filled.iloc[90:93,:]\n",
    "\n",
    "# ###Use KernelExplainer for SVM\n",
    "# explainer = shap.KernelExplainer(svm_clf.predict_proba, background_data)\n",
    "\n",
    "# ###Calculate shap_values for all of X\n",
    "# shap_values = explainer.shap_values(X_test_filled)\n",
    "\n",
    "# ###Plot the SHAP values\n",
    "# shap.summary_plot(shap_values, X_test_filled)\n"
   ]
  },
  {
   "cell_type": "code",
   "execution_count": 14,
   "metadata": {},
   "outputs": [
    {
     "name": "stdout",
     "output_type": "stream",
     "text": [
      "Accuracy: 61.80%\n",
      "              precision    recall  f1-score   support\n",
      "\n",
      "         0.0       0.23      0.64      0.34       169\n",
      "         1.0       0.90      0.61      0.73       928\n",
      "\n",
      "    accuracy                           0.62      1097\n",
      "   macro avg       0.57      0.63      0.54      1097\n",
      "weighted avg       0.80      0.62      0.67      1097\n",
      "\n"
     ]
    },
    {
     "data": {
      "image/png": "[encoded data removed]",
      "text/plain": [
       "<Figure size 576x576 with 2 Axes>"
      ]
     },
     "metadata": {
      "needs_background": "light"
     },
     "output_type": "display_data"
    }
   ],
   "source": [
    "import matplotlib.pyplot as plt\n",
    "from sklearn.metrics import accuracy_score, classification_report, confusion_matrix, ConfusionMatrixDisplay\n",
    "\n",
    "y_pred = model.predict(X_test)\n",
    "accuracy = accuracy_score(y_test, y_pred_svm)\n",
    "print(\"Accuracy: %.2f%%\" % (accuracy * 100.0))\n",
    "print(classification_report(y_test, y_pred_svm))\n",
    "\n",
    "# Compute the confusion matrix\n",
    "cm = confusion_matrix(y_test, y_pred_svm)\n",
    "\n",
    "# Plot the confusion matrix\n",
    "fig, ax = plt.subplots(figsize=(8, 8))\n",
    "disp = ConfusionMatrixDisplay(confusion_matrix=cm, display_labels=model.classes_)\n",
    "disp.plot(ax=ax, cmap=plt.cm.Blues)\n",
    "\n",
    "plt.title(\"Confusion Matrix\")\n",
    "plt.xlabel(\"Predicted Label\")\n",
    "plt.ylabel(\"True Label\")\n",
    "plt.show()\n"
   ]
  },
  {
   "cell_type": "code",
   "execution_count": 15,
   "metadata": {},
   "outputs": [
    {
     "data": {
      "text/plain": [
       "1.00    928\n",
       "0.00    169\n",
       "Name: Label, dtype: int64"
      ]
     },
     "execution_count": 15,
     "metadata": {},
     "output_type": "execute_result"
    }
   ],
   "source": [
    "y_test.value_counts()"
   ]
  },
  {
   "cell_type": "code",
   "execution_count": 16,
   "metadata": {},
   "outputs": [
    {
     "data": {
      "text/plain": [
       "1.00    928\n",
       "0.00    169\n",
       "Name: Label, dtype: int64"
      ]
     },
     "execution_count": 16,
     "metadata": {},
     "output_type": "execute_result"
    }
   ],
   "source": [
    "y_test.value_counts()"
   ]
  },
  {
   "cell_type": "code",
   "execution_count": 17,
   "metadata": {},
   "outputs": [],
   "source": [
    "# param_grid = {\n",
    "#     'learning_rate': [0.01, 0.1, 0.2],\n",
    "#     'n_estimators': [50, 100, 150],\n",
    "#     'max_depth': [3, 4],\n",
    "#     'min_child_weight': [1, 3],\n",
    "#     'gamma': [0.1, 0.01, 0.05],\n",
    "#     'subsample': [0.4,0.6],\n",
    "#     'colsample_bytree': [0.3, 0.8],\n",
    "# }\n",
    "\n",
    "# # Create an XGBoost classifier with default parameters\n",
    "# xgb_classifier = xgb.XGBClassifier(objective='binary:logistic', random_state=42, n_jobs=-1)\n",
    "\n",
    "# # Define the scoring metric (F1-score)\n",
    "# scoring = make_scorer(f1_score)\n",
    "\n",
    "# grid_search = GridSearchCV(\n",
    "#     estimator=xgb_classifier,\n",
    "#     param_grid=param_grid,\n",
    "#     scoring=scoring,\n",
    "#     cv=2,  # You can use more folds if needed\n",
    "#     verbose=2,\n",
    "#     n_jobs=-1,\n",
    "# )\n",
    "\n",
    "# if smoteBool:\n",
    "#     grid_search.fit(X_train_smote, y_train_smote)\n",
    "# else:\n",
    "#     grid_search.fit(X_train_filled, y_train)\n",
    "\n",
    "\n",
    "# # Get the best parameters and the corresponding best F1-score\n",
    "# best_params = grid_search.best_params_\n",
    "# best_f1_score = grid_search.best_score_\n",
    "\n",
    "# print(\"Best Parameters: \", best_params)\n",
    "# print(\"Best F1-score: \", best_f1_score)\n",
    "\n",
    "# # Train and evaluate the XGBoost model with the best parameters\n",
    "# best_xgb_model = xgb.XGBClassifier(objective='binary:logistic', random_state=42, **best_params)\n",
    "# if smoteBool:\n",
    "#     best_xgb_model.fit(X_train_smote, y_train_smote)\n",
    "#     y_pred = best_xgb_model.predict(X_test_filled)\n",
    "# else:\n",
    "#     best_xgb_model.fit(X_train_filled, y_train)\n",
    "#     y_pred = best_xgb_model.predict(X_test_filled)\n",
    "\n",
    "# accuracy = accuracy_score(y_test, y_pred)\n",
    "# print(\"Accuracy: %.2f%%\" % (accuracy * 100.0))\n",
    "# print(classification_report(y_test, y_pred))"
   ]
  }
 ],
 "metadata": {
  "kernelspec": {
   "display_name": "Python 3",
   "language": "python",
   "name": "python3"
  },
  "language_info": {
   "codemirror_mode": {
    "name": "ipython",
    "version": 3
   },
   "file_extension": ".py",
   "mimetype": "text/x-python",
   "name": "python",
   "nbconvert_exporter": "python",
   "pygments_lexer": "ipython3",
   "version": "3.8.10"
  },
  "orig_nbformat": 4
 },
 "nbformat": 4,
 "nbformat_minor": 2
}
