{
 "cells": [
  {
   "cell_type": "code",
   "execution_count": 1,
   "metadata": {},
   "outputs": [],
   "source": [
    "import pandas as pd\n",
    "import xgboost as xgb\n",
    "from sklearn.model_selection import train_test_split\n",
    "from imblearn.over_sampling import SMOTE\n",
    "from sklearn.model_selection import GridSearchCV\n",
    "from sklearn.metrics import make_scorer, f1_score\n",
    "from sklearn.metrics import accuracy_score, classification_report, confusion_matrix"
   ]
  },
  {
   "cell_type": "code",
   "execution_count": 2,
   "metadata": {},
   "outputs": [],
   "source": [
    "def preprocess(df):\n",
    "    listBB = ['FaceRectX', 'FaceRectY', 'FaceRectWidth', 'FaceRectHeight']\n",
    "    listLandmarks = ['x' + str(i) for i in range(68)] + ['y' + str(i) for i in range(68)]\n",
    "    listTime = ['Frame', 'Timestamp']\n",
    "    listDiff = ['AU1_diff','AU2_diff','AU4_diff','AU5_diff','AU6_diff','AU7_diff','AU9_diff','AU10_diff','AU11_diff',\n",
    "                'AU12_diff','AU14_diff','AU15_diff','AU17_diff','AU20_diff','AU23_diff','AU24_diff','AU25_diff','AU26_diff','AU28_diff',\n",
    "                'AU43_diff','anger_diff','disgust_diff','fear_diff','happiness_diff', 'sadness_diff','surprise_diff','neutral_diff','emotion_mirroring_diff']\n",
    "    df = df.drop(columns = listBB + listLandmarks + listTime + listDiff)\n",
    "    df = df[df['Label'] != 'x']\n",
    "    df = df[df['Label'] != 'skip']\n",
    "    df['Label'] = df['Label'].replace({'n': 0, 'no': 0, 'y': 1, 'yes': 1})\n",
    "    df = df.drop(columns=['pupil_direction', 'Person'])\n",
    "    \n",
    "    return df"
   ]
  },
  {
   "cell_type": "code",
   "execution_count": 3,
   "metadata": {},
   "outputs": [],
   "source": [
    "filenames = [f\"finaldata/{i}.csv\" for i in range(1, 21)]  # [\"1.csv\", \"2.csv\", ..., \"12.csv\"]\n",
    "dataframes = []\n",
    "\n",
    "for filename in filenames:\n",
    "    df = pd.read_csv(filename)\n",
    "    preprocessed_df = preprocess(df)\n",
    "    dataframes.append(preprocessed_df)\n",
    "combined_df = pd.concat(dataframes, ignore_index=True)\n",
    "X = combined_df.drop(columns=['Label'])\n",
    "y = combined_df['Label']"
   ]
  },
  {
   "cell_type": "code",
   "execution_count": 89,
   "metadata": {},
   "outputs": [
    {
     "data": {
      "text/plain": [
       "1    130957\n",
       "0     24030\n",
       "Name: Label, dtype: int64"
      ]
     },
     "execution_count": 89,
     "metadata": {},
     "output_type": "execute_result"
    }
   ],
   "source": [
    "y.value_counts()"
   ]
  },
  {
   "cell_type": "code",
   "execution_count": 4,
   "metadata": {},
   "outputs": [],
   "source": [
    "smote = SMOTE(random_state=42)\n",
    "# for col in X.columns:\n",
    "#     print(col, ' : ', X[col].dtype)\n",
    "# print(X.isna().sum().sum())"
   ]
  },
  {
   "cell_type": "code",
   "execution_count": 5,
   "metadata": {},
   "outputs": [],
   "source": [
    "## 2a. If preserving the temporal nature of the data is crucial:\n",
    "train_size = int(0.8 * len(X))  # 80% train, 20% test\n",
    "X_train, X_test = X[:train_size], X[train_size:]\n",
    "y_train, y_test = y[:train_size], y[train_size:]\n",
    "\n",
    "## 2b. If shuffling the data is not a problem:\n",
    "# X_train, X_test, y_train, y_test = train_test_split(X, y, test_size=0.2, random_state=42)"
   ]
  },
  {
   "cell_type": "code",
   "execution_count": 6,
   "metadata": {},
   "outputs": [
    {
     "data": {
      "text/plain": [
       "154982    0\n",
       "154983    0\n",
       "154984    0\n",
       "154985    0\n",
       "154986    0\n",
       "Name: Label, dtype: int64"
      ]
     },
     "execution_count": 6,
     "metadata": {},
     "output_type": "execute_result"
    }
   ],
   "source": [
    "y[-5:]"
   ]
  },
  {
   "cell_type": "code",
   "execution_count": 7,
   "metadata": {},
   "outputs": [],
   "source": [
    "X_train_filled = X_train.fillna(X_train.median())\n",
    "X_test_filled = X_test.fillna(X_train.median())"
   ]
  },
  {
   "cell_type": "code",
   "execution_count": 10,
   "metadata": {},
   "outputs": [
    {
     "name": "stdout",
     "output_type": "stream",
     "text": [
      "REGULAR xgboost, scale_weight:0.16375701601246456\n"
     ]
    }
   ],
   "source": [
    "smote = 0\n",
    "\n",
    "if smote:\n",
    "    print('SMOTE xgboost')\n",
    "    X_train_smote, y_train_smote = smote.fit_resample(X_train_filled, y_train)\n",
    "    scale_pos_weight = len(y_train_smote[y_train_smote == 0]) / len(y_train_smote[y_train_smote == 1])\n",
    "    model = xgb.XGBClassifier(objective='binary:logistic', random_state=42, scale_pos_weight=scale_pos_weight)  # Adjust hyperparameters as needed\n",
    "    model.fit(X_train_smote, y_train_smote)\n",
    "else:\n",
    "    scale_pos_weight = len(y_train[y_train == 0]) / len(y_train[y_train == 1])\n",
    "    print(f'REGULAR xgboost, scale_weight:{scale_pos_weight}')\n",
    "    model = xgb.XGBClassifier(objective='binary:logistic', random_state=42, scale_pos_weight=0.005)  # Adjust hyperparameters as needed\n",
    "    model.fit(X_train, y_train)\n"
   ]
  },
  {
   "cell_type": "code",
   "execution_count": 11,
   "metadata": {},
   "outputs": [
    {
     "name": "stdout",
     "output_type": "stream",
     "text": [
      "Accuracy: 71.24%\n",
      "              precision    recall  f1-score   support\n",
      "\n",
      "           0       0.24      0.17      0.20      6583\n",
      "           1       0.79      0.86      0.82     24415\n",
      "\n",
      "    accuracy                           0.71     30998\n",
      "   macro avg       0.52      0.51      0.51     30998\n",
      "weighted avg       0.68      0.71      0.69     30998\n",
      "\n",
      "Confusion Matrix:\n",
      "[[ 1096  5487]\n",
      " [ 3428 20987]]\n"
     ]
    }
   ],
   "source": [
    "y_pred = model.predict(X_test)\n",
    "accuracy = accuracy_score(y_test, y_pred)\n",
    "print(\"Accuracy: %.2f%%\" % (accuracy * 100.0))\n",
    "print(classification_report(y_test, y_pred))\n",
    "\n",
    "cm = confusion_matrix(y_test, y_pred)\n",
    "print(\"Confusion Matrix:\")\n",
    "print(cm)"
   ]
  },
  {
   "cell_type": "code",
   "execution_count": 12,
   "metadata": {},
   "outputs": [
    {
     "name": "stdout",
     "output_type": "stream",
     "text": [
      "Accuracy: 71.24%\n",
      "              precision    recall  f1-score   support\n",
      "\n",
      "           0       0.24      0.17      0.20      6583\n",
      "           1       0.79      0.86      0.82     24415\n",
      "\n",
      "    accuracy                           0.71     30998\n",
      "   macro avg       0.52      0.51      0.51     30998\n",
      "weighted avg       0.68      0.71      0.69     30998\n",
      "\n"
     ]
    },
    {
     "data": {
      "image/png": "[encoded data removed]",
      "text/plain": [
       "<Figure size 576x576 with 2 Axes>"
      ]
     },
     "metadata": {
      "needs_background": "light"
     },
     "output_type": "display_data"
    }
   ],
   "source": [
    "import matplotlib.pyplot as plt\n",
    "from sklearn.metrics import accuracy_score, classification_report, confusion_matrix, ConfusionMatrixDisplay\n",
    "\n",
    "y_pred = model.predict(X_test)\n",
    "accuracy = accuracy_score(y_test, y_pred)\n",
    "print(\"Accuracy: %.2f%%\" % (accuracy * 100.0))\n",
    "print(classification_report(y_test, y_pred))\n",
    "\n",
    "# Compute the confusion matrix\n",
    "cm = confusion_matrix(y_test, y_pred)\n",
    "\n",
    "# Plot the confusion matrix\n",
    "fig, ax = plt.subplots(figsize=(8, 8))\n",
    "disp = ConfusionMatrixDisplay(confusion_matrix=cm, display_labels=model.classes_)\n",
    "disp.plot(ax=ax, cmap=plt.cm.Blues)\n",
    "\n",
    "plt.title(\"Confusion Matrix\")\n",
    "plt.xlabel(\"Predicted Label\")\n",
    "plt.ylabel(\"True Label\")\n",
    "plt.show()\n"
   ]
  },
  {
   "cell_type": "code",
   "execution_count": 49,
   "metadata": {},
   "outputs": [
    {
     "data": {
      "text/plain": [
       "1    16593\n",
       "0      890\n",
       "Name: Label, dtype: int64"
      ]
     },
     "execution_count": 49,
     "metadata": {},
     "output_type": "execute_result"
    }
   ],
   "source": [
    "y_test.value_counts()"
   ]
  },
  {
   "cell_type": "code",
   "execution_count": 11,
   "metadata": {},
   "outputs": [
    {
     "data": {
      "text/plain": [
       "1    16593\n",
       "0      890\n",
       "Name: Label, dtype: int64"
      ]
     },
     "execution_count": 11,
     "metadata": {},
     "output_type": "execute_result"
    }
   ],
   "source": [
    "y_test.value_counts()"
   ]
  },
  {
   "cell_type": "code",
   "execution_count": 12,
   "metadata": {},
   "outputs": [
    {
     "data": {
      "text/plain": [
       "1    59761\n",
       "0    10170\n",
       "Name: Label, dtype: int64"
      ]
     },
     "execution_count": 12,
     "metadata": {},
     "output_type": "execute_result"
    }
   ],
   "source": [
    "y_train.value_counts()"
   ]
  },
  {
   "cell_type": "code",
   "execution_count": 13,
   "metadata": {},
   "outputs": [
    {
     "name": "stdout",
     "output_type": "stream",
     "text": [
      "Fitting 2 folds for each of 6 candidates, totalling 12 fits\n",
      "Best Parameters:  {'colsample_bytree': 0.8, 'gamma': 0.1, 'learning_rate': 0.2, 'max_depth': 3, 'min_child_weight': 1, 'n_estimators': 100, 'subsample': 0.6}\n",
      "Best F1-score:  0.6609166673937559\n",
      "Accuracy: 92.79%\n",
      "              precision    recall  f1-score   support\n",
      "\n",
      "           0       0.01      0.01      0.01       890\n",
      "           1       0.95      0.98      0.96     16593\n",
      "\n",
      "    accuracy                           0.93     17483\n",
      "   macro avg       0.48      0.49      0.49     17483\n",
      "weighted avg       0.90      0.93      0.91     17483\n",
      "\n"
     ]
    }
   ],
   "source": [
    "param_grid = {\n",
    "    'learning_rate': [0.01, 0.1, 0.2],\n",
    "    'n_estimators': [50, 100],\n",
    "    'max_depth': [3],\n",
    "    'min_child_weight': [1],\n",
    "    'gamma': [0.1],\n",
    "    'subsample': [0.6],\n",
    "    'colsample_bytree': [0.8],\n",
    "}\n",
    "\n",
    "# Create an XGBoost classifier with default parameters\n",
    "xgb_classifier = xgb.XGBClassifier(objective='binary:logistic', random_state=42, n_jobs=-1)\n",
    "\n",
    "# Define the scoring metric (F1-score)\n",
    "scoring = make_scorer(f1_score)\n",
    "\n",
    "grid_search = GridSearchCV(\n",
    "    estimator=xgb_classifier,\n",
    "    param_grid=param_grid,\n",
    "    scoring=scoring,\n",
    "    cv=2,  # You can use more folds if needed\n",
    "    verbose=2,\n",
    "    n_jobs=-1,\n",
    ")\n",
    "\n",
    "grid_search.fit(X_train_smote, y_train_smote)\n",
    "\n",
    "# Get the best parameters and the corresponding best F1-score\n",
    "best_params = grid_search.best_params_\n",
    "best_f1_score = grid_search.best_score_\n",
    "\n",
    "print(\"Best Parameters: \", best_params)\n",
    "print(\"Best F1-score: \", best_f1_score)\n",
    "\n",
    "# Train and evaluate the XGBoost model with the best parameters\n",
    "best_xgb_model = xgb.XGBClassifier(objective='binary:logistic', random_state=42, **best_params)\n",
    "best_xgb_model.fit(X_train_smote, y_train_smote)\n",
    "\n",
    "y_pred = best_xgb_model.predict(X_test_filled)\n",
    "accuracy = accuracy_score(y_test, y_pred)\n",
    "print(\"Accuracy: %.2f%%\" % (accuracy * 100.0))\n",
    "print(classification_report(y_test, y_pred))"
   ]
  },
  {
   "cell_type": "code",
   "execution_count": 15,
   "metadata": {},
   "outputs": [
    {
     "data": {
      "text/plain": [
       "1    59761\n",
       "0    10170\n",
       "Name: Label, dtype: int64"
      ]
     },
     "execution_count": 15,
     "metadata": {},
     "output_type": "execute_result"
    }
   ],
   "source": [
    "y_train.value_counts()"
   ]
  }
 ],
 "metadata": {
  "kernelspec": {
   "display_name": "Python 3",
   "language": "python",
   "name": "python3"
  },
  "language_info": {
   "codemirror_mode": {
    "name": "ipython",
    "version": 3
   },
   "file_extension": ".py",
   "mimetype": "text/x-python",
   "name": "python",
   "nbconvert_exporter": "python",
   "pygments_lexer": "ipython3",
   "version": "3.8.10"
  },
  "orig_nbformat": 4
 },
 "nbformat": 4,
 "nbformat_minor": 2
}
