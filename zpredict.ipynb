{
 "cells": [
  {
   "cell_type": "code",
   "execution_count": 1,
   "metadata": {},
   "outputs": [],
   "source": [
    "import warnings\n",
    "warnings.simplefilter(action='ignore', category=FutureWarning)\n",
    "\n",
    "import pandas as pd\n",
    "import xgboost as xgb\n",
    "from sklearn.model_selection import train_test_split\n",
    "from imblearn.over_sampling import SMOTE\n",
    "\n",
    "from sklearn.model_selection import GridSearchCV\n",
    "from sklearn.metrics import make_scorer, f1_score, roc_auc_score\n",
    "from sklearn.metrics import accuracy_score, classification_report, confusion_matrix"
   ]
  },
  {
   "cell_type": "code",
   "execution_count": 2,
   "metadata": {},
   "outputs": [],
   "source": [
    "def preprocess(df):\n",
    "    listIntToBool = ['AU7', 'AU20', 'looking_away']\n",
    "    for col in listIntToBool:\n",
    "        df[col] = df[col].astype('bool')\n",
    "        \n",
    "    listBB = ['FaceRectX', 'FaceRectY', 'FaceRectWidth', 'FaceRectHeight']\n",
    "    listLandmarks = ['x' + str(i) for i in range(68)] + ['y' + str(i) for i in range(68)]\n",
    "    listTime = ['Timestamp']\n",
    "    \n",
    "    listAUDiff = ['AU1_diff','AU2_diff','AU4_diff','AU5_diff','AU6_diff','AU7_diff','AU9_diff','AU10_diff','AU11_diff','AU12_diff',\n",
    "                'AU14_diff','AU15_diff','AU17_diff','AU20_diff','AU23_diff','AU24_diff','AU25_diff','AU26_diff','AU28_diff','AU43_diff']\n",
    "    listEmoDiff = ['disgust_diff','fear_diff','happiness_diff', 'anger_diff', 'sadness_diff','surprise_diff','neutral_diff','emotion_mirroring_diff']\n",
    "    \n",
    "    listEyes = ['eyeWidth', 'eyeHeight', 'mean_EAR', 'mean_pupil_ratio']\n",
    "    \n",
    "    listAU = ['AU1','AU2','AU4','AU5','AU6','AU7','AU9','AU10','AU11',\n",
    "              'AU12','AU14','AU15','AU17','AU20','AU23','AU24','AU25','AU26','AU28','AU43']\n",
    "    \n",
    "    listFaceDirection = ['Pitch', 'Yaw', 'Roll']\n",
    "    \n",
    "    featureTest = ['AU5', 'AU10', 'AU15', 'AU26', 'AU28', 'looking_away', 'AU1_diff', 'AU2_diff', 'AU4_diff', 'AU5_diff', 'AU6_diff', 'AU7_diff', 'AU9_diff', 'AU10_diff', \n",
    "                   'AU11_diff', 'AU12_diff', 'AU14_diff', 'AU15_diff', 'AU17_diff', 'AU20_diff', 'AU23_diff', 'AU24_diff', 'AU25_diff', 'AU26_diff', 'AU28_diff', \n",
    "                   'AU43_diff', 'anger_diff', 'disgust_diff', 'fear_diff', 'happiness_diff', 'surprise_diff', 'neutral_diff', 'emotion_mirroring_diff', 'pupil_deviation']\n",
    "    ##      + listEmoDiff \n",
    "    \n",
    "    \n",
    "    totalcolumns = listBB + listLandmarks + listTime  + listEyes + featureTest# + listFaceDirection\n",
    "        \n",
    "    df = df.drop(columns = totalcolumns)\n",
    "    df = df.drop(columns=['pupil_direction', 'Person'])\n",
    "    df = df[df['Label'] != 'x']\n",
    "    df = df[df['Label'] != 'skip']\n",
    "    df['Label'] = df['Label'].replace({'n': 0, 'no': 0, 'y': 1, 'yes': 1})\n",
    "    return df\n",
    "\n",
    "def generate_chunk_summary(chunk, columnlist):\n",
    "    chunk_df = pd.DataFrame(chunk)\n",
    "    chunk_summary = chunk_df.mean().to_dict()  # calculate mean for all columns\n",
    "    for col in columnlist:  # calculate quartiles and standard deviation for columns in columnlist\n",
    "        chunk_summary.update({\n",
    "            f'{col}_Q1': chunk_df[col].quantile(0.25),\n",
    "            f'{col}_Q2': chunk_df[col].median(),\n",
    "            f'{col}_Q3': chunk_df[col].quantile(0.75),\n",
    "            f'{col}_SD': chunk_df[col].std(),\n",
    "        })\n",
    "    chunk_summary['Label'] = chunk_df['Label'].values[-1]\n",
    "    return chunk_summary\n",
    "\n",
    "def create_chunks(df, chunk_size):\n",
    "    columnlist = ['EAR', 'Yaw']\n",
    "    df_new = pd.DataFrame()\n",
    "    current_chunk = []\n",
    "    start_of_probe = -1\n",
    "    summaries = []\n",
    "\n",
    "    for _, row in df.iterrows():\n",
    "        if start_of_probe < 0 or (row['Frame'] - start_of_probe) >= 500:\n",
    "            # Finalize the current chunk, if there is one\n",
    "            if current_chunk:\n",
    "                chunk_summary = generate_chunk_summary(current_chunk, columnlist)\n",
    "                summaries.append(chunk_summary)\n",
    "            \n",
    "            # Start a new probe and a new chunk\n",
    "            start_of_probe = row['Frame']\n",
    "            current_chunk = [row]\n",
    "        elif len(current_chunk) == chunk_size:\n",
    "            # We have a complete chunk, so finalize it\n",
    "            chunk_summary = generate_chunk_summary(current_chunk, columnlist)\n",
    "            summaries.append(chunk_summary)\n",
    "            current_chunk = [row]\n",
    "        else:\n",
    "            # Add the current row to the current chunk\n",
    "            current_chunk.append(row)\n",
    "\n",
    "    # Finalize the last chunk, if there is one\n",
    "    if current_chunk:\n",
    "        chunk_summary = generate_chunk_summary(current_chunk, columnlist)\n",
    "        summaries.append(chunk_summary)\n",
    "    \n",
    "    df_new = pd.DataFrame(summaries)\n",
    "\n",
    "    return df_new\n",
    "\n",
    "def preprocess_and_chunk(filename, chunk_size, diff_columns=[]):\n",
    "    df = pd.read_csv(filename)\n",
    "    for column in diff_columns:\n",
    "        df[f'{column}_difference'] = df[column].diff()\n",
    "    df['head_movement'] = df[['Pitch', 'Yaw', 'Roll']].diff().abs().sum(axis=1)\n",
    "    df['Yaw_normalized'] = (df['Yaw'] + 90) / 180\n",
    "    df['combined_gaze'] = (df['Yaw_normalized'] + df['pupil_ratio']) / 2\n",
    "    df = df.drop(columns='Yaw_normalized')\n",
    "    mean_value = df['EAR'].iloc[:1000].mean()\n",
    "    df['calibrated_EAR'] = mean_value\n",
    "    df['pupil_deviation'] = abs(df['mean_pupil_ratio'] - df['pupil_ratio'])\n",
    "    df['EAR_deviation'] = abs(df['EAR'] - df['calibrated_EAR'])\n",
    "    df = preprocess(df)\n",
    "    df_chunks = create_chunks(df, chunk_size)\n",
    "    df_chunks = df_chunks.drop(columns='calibrated_EAR')\n",
    "    return df_chunks\n",
    "\n",
    "def checkForFullYes(filename):\n",
    "    df = pd.read_csv(filename)\n",
    "    counts = df['Label'].value_counts()\n",
    "    no_count = counts.get('no', 0)\n",
    "    n_count = counts.get('n', 0)\n",
    "    finalcount = no_count + n_count\n",
    "    #print(filename, finalcount)\n",
    "    return finalcount"
   ]
  },
  {
   "cell_type": "code",
   "execution_count": 3,
   "metadata": {},
   "outputs": [
    {
     "name": "stdout",
     "output_type": "stream",
     "text": [
      "\n"
     ]
    }
   ],
   "source": [
    "kalman = False\n",
    "if kalman == True:\n",
    "    kalman = '_kalman'\n",
    "else: kalman = ''\n",
    "print(kalman)\n",
    "number = 250\n",
    "filenames = [f\"finaldata_{number}{kalman}/{i}.csv\" for i in range(1, 39)]  ## [\"1.csv\", \"2.csv\", ..., \"38.csv\"]\n",
    "\n",
    "test_indices = [5, 8, 15, 17, 23, 32, 37]  ## generate test set based on index name\n",
    "\n",
    "train_filenames = [f for i, f in enumerate(filenames, start=1) if i not in test_indices]\n",
    "test_filenames = [f for i, f in enumerate(filenames, start=1) if i in test_indices]\n",
    "\n",
    "dataframes_train = []\n",
    "dataframes_test = []\n",
    "\n",
    "chunkBool = True\n",
    "chunk_size = 25  \n",
    "\n",
    "\n",
    "if chunkBool:\n",
    "    for filename in train_filenames:\n",
    "        finalcount = checkForFullYes(filename)\n",
    "        if finalcount == 0:\n",
    "            continue        \n",
    "        chunked_df = preprocess_and_chunk(filename, chunk_size)\n",
    "        dataframes_train.append(chunked_df)\n",
    "    \n",
    "    for filename in test_filenames:\n",
    "        finalcount = checkForFullYes(filename)\n",
    "        if finalcount == 0:\n",
    "            continue          \n",
    "        chunked_df = preprocess_and_chunk(filename, chunk_size)\n",
    "        dataframes_test.append(chunked_df)\n",
    "else:\n",
    "    for filename in train_filenames:\n",
    "        df = pd.read_csv(filename)\n",
    "        preprocessed_df = preprocess(df)\n",
    "        dataframes_train.append(preprocessed_df)\n",
    "\n",
    "    for filename in test_filenames:\n",
    "        df = pd.read_csv(filename)\n",
    "        preprocessed_df = preprocess(df)\n",
    "        dataframes_test.append(preprocessed_df)\n",
    "    \n",
    "\n",
    "train_combined_df = pd.concat(dataframes_train, ignore_index=True)\n",
    "X_train = train_combined_df.drop(columns=['Label', 'Frame'])\n",
    "y_train = train_combined_df['Label']\n",
    "\n",
    "test_combined_df = pd.concat(dataframes_test, ignore_index=True)\n",
    "X_test = test_combined_df.drop(columns=['Label', 'Frame'])\n",
    "y_test = test_combined_df['Label']\n"
   ]
  },
  {
   "cell_type": "code",
   "execution_count": 4,
   "metadata": {},
   "outputs": [
    {
     "data": {
      "text/plain": [
       "0    1096\n",
       "1     207\n",
       "Name: Label, dtype: int64"
      ]
     },
     "execution_count": 4,
     "metadata": {},
     "output_type": "execute_result"
    }
   ],
   "source": [
    "y_test.value_counts()\n",
    "\n",
    "\n",
    "# 1.00    1516\n",
    "# 0.00     240"
   ]
  },
  {
   "cell_type": "code",
   "execution_count": 5,
   "metadata": {},
   "outputs": [],
   "source": [
    "smote = SMOTE(random_state=42)\n"
   ]
  },
  {
   "cell_type": "code",
   "execution_count": 6,
   "metadata": {},
   "outputs": [
    {
     "name": "stdout",
     "output_type": "stream",
     "text": [
      "3464\n",
      "0    2806\n",
      "1     658\n",
      "Name: Label, dtype: int64\n"
     ]
    }
   ],
   "source": [
    "print(len(y_train))\n",
    "print(y_train.value_counts())\n",
    "## 5270, 1288"
   ]
  },
  {
   "cell_type": "code",
   "execution_count": 7,
   "metadata": {},
   "outputs": [],
   "source": [
    "X_train_filled = X_train.fillna(X_train.median())\n",
    "X_test_filled = X_test.fillna(X_train.median())"
   ]
  },
  {
   "cell_type": "code",
   "execution_count": 8,
   "metadata": {},
   "outputs": [
    {
     "name": "stdout",
     "output_type": "stream",
     "text": [
      "REGULAR xgboost, scale_weight:4.264437689969605\n"
     ]
    }
   ],
   "source": [
    "# from imblearn.under_sampling import NearMiss\n",
    "\n",
    "# smoteBool = 0\n",
    "# undersampleBool = 0\n",
    "\n",
    "# if smoteBool:\n",
    "#     print('SMOTE xgboost')\n",
    "#     X_train_smote, y_train_smote = smote.fit_resample(X_train_filled, y_train)\n",
    "#     scale_pos_weight = len(y_train_smote[y_train_smote == 0]) / len(y_train_smote[y_train_smote == 1])\n",
    "#     model = xgb.XGBClassifier(objective='binary:logistic', random_state=42, scale_pos_weight=scale_pos_weight)  # Adjust hyperparameters as needed\n",
    "#     model.fit(X_train_smote, y_train_smote)\n",
    "# elif undersampleBool:\n",
    "#     print('UNDERSAMPLE xgboost')\n",
    "#     nm = NearMiss()\n",
    "#     X_train_filled, y_train = nm.fit_resample(X_train_filled, y_train)\n",
    "#     scale_pos_weight = len(y_train[y_train == 0]) / len(y_train[y_train == 1])\n",
    "#     model = xgb.XGBClassifier(objective='binary:logistic', random_state=42, scale_pos_weight=scale_pos_weight)  # Adjust hyperparameters as needed\n",
    "#     model.fit(X_train_filled, y_train)\n",
    "# else:\n",
    "#     scale_pos_weight = len(y_train[y_train == 0]) / len(y_train[y_train == 1])\n",
    "#     print(f'REGULAR xgboost, scale_weight:{scale_pos_weight}')\n",
    "#     model = xgb.XGBClassifier(objective='binary:logistic', random_state=42, scale_pos_weight=(scale_pos_weight/3), \n",
    "#                               learning_rate=0.12, min_child_weight=1, max_delta_step=5,\n",
    "#                               n_estimators = 200)  # Adjust hyperparameters as needed\n",
    "#     model.fit(X_train_filled, y_train)\n",
    "\n",
    "from imblearn.under_sampling import NearMiss\n",
    "from sklearn.feature_selection import RFECV\n",
    "from sklearn.model_selection import StratifiedKFold\n",
    "from xgboost import XGBClassifier\n",
    "from sklearn.pipeline import make_pipeline\n",
    "from sklearn.metrics import make_scorer, f1_score\n",
    "\n",
    "# Create a custom scorer\n",
    "def negative_class_f1(y_true, y_pred):\n",
    "    return f1_score(y_true, y_pred, pos_label=0)  # Assuming 0 is the label for the negative class\n",
    "\n",
    "negative_class_f1_scorer = make_scorer(negative_class_f1)\n",
    "\n",
    "\n",
    "smoteBool = 0\n",
    "undersampleBool = 0\n",
    "\n",
    "#rfecv = RFECV(estimator=XGBClassifier(), step=1, cv=StratifiedKFold(5), scoring=negative_class_f1_scorer)\n",
    "\n",
    "if smoteBool:\n",
    "    print('SMOTE xgboost')\n",
    "    X_train_smote, y_train_smote = smote.fit_resample(X_train_filled, y_train)\n",
    "    scale_pos_weight = len(y_train_smote[y_train_smote == 0]) / len(y_train_smote[y_train_smote == 1])\n",
    "    model = make_pipeline(rfecv, XGBClassifier(objective='binary:logistic', random_state=42, scale_pos_weight=scale_pos_weight))  # Adjust hyperparameters as needed\n",
    "    model.fit(X_train_smote, y_train_smote)\n",
    "elif undersampleBool:\n",
    "    print('UNDERSAMPLE xgboost')\n",
    "    nm = NearMiss()\n",
    "    X_train_filled, y_train = nm.fit_resample(X_train_filled, y_train)\n",
    "    scale_pos_weight = len(y_train[y_train == 0]) / len(y_train[y_train == 1])\n",
    "    model = make_pipeline(rfecv, XGBClassifier(objective='binary:logistic', random_state=42, scale_pos_weight=scale_pos_weight))  # Adjust hyperparameters as needed\n",
    "    model.fit(X_train_filled, y_train)\n",
    "else:\n",
    "    scale_pos_weight = len(y_train[y_train == 0]) / len(y_train[y_train == 1])\n",
    "    print(f'REGULAR xgboost, scale_weight:{scale_pos_weight}')\n",
    "    \n",
    "    # model = make_pipeline(rfecv, XGBClassifier(objective='binary:logistic', random_state=42, scale_pos_weight=(scale_pos_weight/3), \n",
    "    #                           learning_rate=0.12, min_child_weight=1, max_delta_step=5,\n",
    "    #                           n_estimators = 200))  # Adjust hyperparameters as needed\n",
    "    model = XGBClassifier(objective='binary:logistic', random_state=42, scale_pos_weight=(scale_pos_weight/3), \n",
    "                              learning_rate=0.12, min_child_weight=1, max_delta_step=5,\n",
    "                              n_estimators = 200)\n",
    "    model.fit(X_train_filled, y_train)\n"
   ]
  },
  {
   "cell_type": "code",
   "execution_count": 9,
   "metadata": {},
   "outputs": [],
   "source": [
    "# selected_features_mask = model.named_steps['rfecv'].support_\n",
    "\n",
    "# # Print the selected features from your original feature list\n",
    "# selected_features = X_train.columns[selected_features_mask]\n",
    "# print('Selected features: ', selected_features)\n",
    "\n",
    "# feature_rankings = model.named_steps['rfecv'].ranking_\n",
    "# print('Feature rankings: ', feature_rankings)\n",
    "\n",
    "# newTestList = []\n",
    "# for name, rank in zip(X_train.columns.tolist(), feature_rankings):\n",
    "#     #print(f'Name: {name}, Rank: {rank}')\n",
    "#     if rank > 30:\n",
    "#         newTestList.append(name)\n",
    "# print(newTestList)"
   ]
  },
  {
   "cell_type": "code",
   "execution_count": 10,
   "metadata": {},
   "outputs": [],
   "source": [
    "from sklearn import svm\n",
    "from sklearn.preprocessing import StandardScaler\n",
    "from sklearn.pipeline import make_pipeline\n",
    "\n",
    "# Standardize the features\n",
    "scaler = StandardScaler()\n",
    "# Create a pipeline: standardize, then run SVM\n",
    "svm_clf = make_pipeline(scaler, svm.SVC(kernel='rbf' ,class_weight='balanced', random_state=42, probability=1))\n",
    "\n",
    "# Fit the SVM model\n",
    "if smoteBool:\n",
    "    svm_clf.fit(X_train_smote, y_train_smote)\n",
    "    y_pred_svm = svm_clf.predict(X_test_filled)\n",
    "else:\n",
    "    pass\n",
    "    svm_clf.fit(X_train_filled, y_train)\n",
    "    y_pred_svm = svm_clf.predict(X_test_filled)"
   ]
  },
  {
   "cell_type": "code",
   "execution_count": 11,
   "metadata": {},
   "outputs": [
    {
     "name": "stdout",
     "output_type": "stream",
     "text": [
      "3464\n",
      "--------- XGB ------------\n",
      "Accuracy: 82.50%\n",
      "              precision    recall  f1-score   support\n",
      "\n",
      "           0       0.85      0.96      0.90      1096\n",
      "           1       0.35      0.12      0.17       207\n",
      "\n",
      "    accuracy                           0.83      1303\n",
      "   macro avg       0.60      0.54      0.54      1303\n",
      "weighted avg       0.77      0.83      0.79      1303\n",
      "\n",
      "Confusion Matrix:\n",
      "[[1051   45]\n",
      " [ 183   24]]\n",
      "------------SVM-------------\n",
      "Accuracy: 80.89%\n",
      "              precision    recall  f1-score   support\n",
      "\n",
      "           0       0.92      0.85      0.88      1096\n",
      "           1       0.43      0.60      0.50       207\n",
      "\n",
      "    accuracy                           0.81      1303\n",
      "   macro avg       0.67      0.72      0.69      1303\n",
      "weighted avg       0.84      0.81      0.82      1303\n",
      "\n",
      "Confusion Matrix:\n",
      "[[930 166]\n",
      " [ 83 124]]\n",
      "------------XGB-PROBA--------------\n",
      "AUROC SVM: 0.72\n"
     ]
    }
   ],
   "source": [
    "print(len(X_train_filled))\n",
    "\n",
    "y_pred = model.predict(X_test_filled)\n",
    "print('--------- XGB ------------')\n",
    "accuracy = accuracy_score(y_test, y_pred)\n",
    "print(\"Accuracy: %.2f%%\" % (accuracy * 100.0))\n",
    "print(classification_report(y_test, y_pred))\n",
    "\n",
    "cm = confusion_matrix(y_test, y_pred)\n",
    "print(\"Confusion Matrix:\")\n",
    "print(cm)\n",
    "\n",
    "print('------------SVM-------------')\n",
    "accuracy = accuracy_score(y_test, y_pred_svm)\n",
    "print(\"Accuracy: %.2f%%\" % (accuracy * 100.0))\n",
    "print(classification_report(y_test, y_pred_svm))\n",
    "\n",
    "cm = confusion_matrix(y_test, y_pred_svm)\n",
    "print(\"Confusion Matrix:\")\n",
    "print(cm)\n",
    "\n",
    "auroc = roc_auc_score(y_test, y_pred_svm)\n",
    "\n",
    "\n",
    "print('------------XGB-PROBA--------------')\n",
    "y_pred_proba = model.predict_proba(X_test_filled)[:,1]\n",
    "\n",
    "\n",
    "\n",
    "print(\"AUROC SVM: %.2f\" % auroc)\n",
    "\n",
    "\n",
    "\n",
    "## 43, 60, 50 en also 92, 85 en 88 (SVM) 250\n",
    "## 41, 57, 48 en also 91, 84 en 88 (SVM KALMAN) 250\n",
    "\n",
    "## 36, 58, 44 en also 91, 80 en 85 (SVM) 500\n",
    "## 38, 58, 46 en also 91, 82 en 86 (SVM Kalman) 500\n",
    "\n",
    "## 32, 57, 41 en also 90, 77 en 83 (SVM) 750\n",
    "## 34, 56, 42 en also 90, 79 en 74 (SVM Kalman) 750\n",
    "\n",
    "\n",
    "## f1 of 0.82, roc-auc of 0.72\n"
   ]
  },
  {
   "cell_type": "code",
   "execution_count": 12,
   "metadata": {},
   "outputs": [
    {
     "name": "stderr",
     "output_type": "stream",
     "text": [
      "ntree_limit is deprecated, use `iteration_range` or model slicing instead.\n"
     ]
    },
    {
     "data": {
      "image/png": "[encoded data removed]",
      "text/plain": [
       "<Figure size 576x540 with 2 Axes>"
      ]
     },
     "metadata": {
      "needs_background": "light"
     },
     "output_type": "display_data"
    }
   ],
   "source": [
    "import shap\n",
    "\n",
    "# Create object that can calculate shap values\n",
    "explainer = shap.TreeExplainer(model)\n",
    "\n",
    "# Define the number of samples you want\n",
    "num_samples = 350\n",
    "\n",
    "# Calculate Shap values\n",
    "if smoteBool:\n",
    "    print('smote')\n",
    "    sample = X_train_smote.sample(n=num_samples, random_state=42, replace=True)\n",
    "    shap_values = explainer.shap_values(sample)\n",
    "    shap.summary_plot(shap_values, sample)\n",
    "else:\n",
    "    sample = X_train_filled.sample(n=num_samples, random_state=42, replace=True)\n",
    "    shap_values = explainer.shap_values(sample)\n",
    "    shap.summary_plot(shap_values, sample, max_display=15)\n"
   ]
  },
  {
   "cell_type": "code",
   "execution_count": 13,
   "metadata": {},
   "outputs": [
    {
     "name": "stderr",
     "output_type": "stream",
     "text": [
      "100%|██████████| 29/29 [00:21<00:00,  1.34it/s]"
     ]
    },
    {
     "name": "stdout",
     "output_type": "stream",
     "text": [
      "                               Accuracy  Balanced Accuracy  ROC AUC  F1 Score  \\\n",
      "Model                                                                           \n",
      "BernoulliNB                        0.66               0.73     0.73      0.71   \n",
      "GaussianNB                         0.63               0.73     0.73      0.68   \n",
      "NearestCentroid                    0.66               0.72     0.72      0.71   \n",
      "RidgeClassifier                    0.65               0.72     0.72      0.70   \n",
      "LinearSVC                          0.65               0.71     0.71      0.69   \n",
      "LogisticRegression                 0.65               0.71     0.71      0.69   \n",
      "LinearDiscriminantAnalysis         0.65               0.71     0.71      0.70   \n",
      "RidgeClassifierCV                  0.65               0.71     0.71      0.70   \n",
      "SVC                                0.80               0.68     0.68      0.81   \n",
      "NuSVC                              0.80               0.68     0.68      0.81   \n",
      "AdaBoostClassifier                 0.71               0.67     0.67      0.74   \n",
      "SGDClassifier                      0.64               0.67     0.67      0.69   \n",
      "PassiveAggressiveClassifier        0.50               0.64     0.64      0.56   \n",
      "RandomForestClassifier             0.84               0.61     0.61      0.82   \n",
      "LGBMClassifier                     0.82               0.60     0.60      0.81   \n",
      "KNeighborsClassifier               0.68               0.60     0.60      0.72   \n",
      "Perceptron                         0.63               0.59     0.59      0.68   \n",
      "XGBClassifier                      0.82               0.59     0.59      0.80   \n",
      "BaggingClassifier                  0.80               0.58     0.58      0.79   \n",
      "LabelSpreading                     0.72               0.58     0.58      0.74   \n",
      "LabelPropagation                   0.72               0.58     0.58      0.74   \n",
      "CalibratedClassifierCV             0.48               0.55     0.55      0.54   \n",
      "ExtraTreesClassifier               0.83               0.53     0.53      0.79   \n",
      "DecisionTreeClassifier             0.71               0.51     0.51      0.72   \n",
      "QuadraticDiscriminantAnalysis      0.82               0.51     0.51      0.77   \n",
      "ExtraTreeClassifier                0.66               0.50     0.50      0.69   \n",
      "DummyClassifier                    0.84               0.50     0.50      0.77   \n",
      "\n",
      "                               Time Taken  \n",
      "Model                                      \n",
      "BernoulliNB                          0.03  \n",
      "GaussianNB                           0.02  \n",
      "NearestCentroid                      0.02  \n",
      "RidgeClassifier                      0.04  \n",
      "LinearSVC                            0.64  \n",
      "LogisticRegression                   0.11  \n",
      "LinearDiscriminantAnalysis           0.07  \n",
      "RidgeClassifierCV                    0.07  \n",
      "SVC                                  1.41  \n",
      "NuSVC                                1.69  \n",
      "AdaBoostClassifier                   1.79  \n",
      "SGDClassifier                        0.09  \n",
      "PassiveAggressiveClassifier          0.03  \n",
      "RandomForestClassifier               3.74  \n",
      "LGBMClassifier                       0.25  \n",
      "KNeighborsClassifier                 0.11  \n",
      "Perceptron                           0.03  \n",
      "XGBClassifier                        0.98  \n",
      "BaggingClassifier                    2.45  \n",
      "LabelSpreading                       2.23  \n",
      "LabelPropagation                     1.83  \n",
      "CalibratedClassifierCV               2.94  \n",
      "ExtraTreesClassifier                 0.66  \n",
      "DecisionTreeClassifier               0.25  \n",
      "QuadraticDiscriminantAnalysis        0.06  \n",
      "ExtraTreeClassifier                  0.03  \n",
      "DummyClassifier                      0.02  \n"
     ]
    },
    {
     "name": "stderr",
     "output_type": "stream",
     "text": [
      "\n"
     ]
    }
   ],
   "source": [
    "from lazypredict.Supervised import LazyClassifier\n",
    "from sklearn.model_selection import train_test_split\n",
    "import pandas as pd\n",
    "\n",
    "X_train_smote, y_train_smote = smote.fit_resample(X_train_filled, y_train)\n",
    "\n",
    "clf = LazyClassifier(verbose=0,ignore_warnings=True, custom_metric=None)\n",
    "models,predictions = clf.fit(X_train_smote, X_test_filled, y_train_smote, y_test)\n",
    "\n",
    "# Prints the model performance\n",
    "print(models)"
   ]
  },
  {
   "cell_type": "code",
   "execution_count": null,
   "metadata": {},
   "outputs": [],
   "source": []
  },
  {
   "cell_type": "code",
   "execution_count": 14,
   "metadata": {},
   "outputs": [],
   "source": [
    "# ###Create a background dataset (you can also use a subset of your train dataset)\n",
    "# background_data = X_train_filled.iloc[90:93,:]\n",
    "\n",
    "# ###Use KernelExplainer for SVM\n",
    "# explainer = shap.KernelExplainer(svm_clf.predict_proba, background_data)\n",
    "\n",
    "# ###Calculate shap_values for all of X\n",
    "# shap_values = explainer.shap_values(X_test_filled)\n",
    "\n",
    "# ###Plot the SHAP values\n",
    "# shap.summary_plot(shap_values, X_test_filled)\n"
   ]
  },
  {
   "cell_type": "code",
   "execution_count": 15,
   "metadata": {},
   "outputs": [
    {
     "name": "stdout",
     "output_type": "stream",
     "text": [
      "Accuracy: 80.89%\n",
      "              precision    recall  f1-score   support\n",
      "\n",
      "           0       0.92      0.85      0.88      1096\n",
      "           1       0.43      0.60      0.50       207\n",
      "\n",
      "    accuracy                           0.81      1303\n",
      "   macro avg       0.67      0.72      0.69      1303\n",
      "weighted avg       0.84      0.81      0.82      1303\n",
      "\n"
     ]
    },
    {
     "data": {
      "image/png": "[encoded data removed]",
      "text/plain": [
       "<Figure size 576x576 with 2 Axes>"
      ]
     },
     "metadata": {
      "needs_background": "light"
     },
     "output_type": "display_data"
    }
   ],
   "source": [
    "import matplotlib.pyplot as plt\n",
    "from sklearn.metrics import accuracy_score, classification_report, confusion_matrix, ConfusionMatrixDisplay\n",
    "\n",
    "y_pred = model.predict(X_test)\n",
    "accuracy = accuracy_score(y_test, y_pred_svm)\n",
    "print(\"Accuracy: %.2f%%\" % (accuracy * 100.0))\n",
    "print(classification_report(y_test, y_pred_svm))\n",
    "\n",
    "# Compute the confusion matrix\n",
    "cm = confusion_matrix(y_test, y_pred_svm)\n",
    "\n",
    "# Plot the confusion matrix\n",
    "fig, ax = plt.subplots(figsize=(8, 8))\n",
    "disp = ConfusionMatrixDisplay(confusion_matrix=cm, display_labels=model.classes_)\n",
    "disp.plot(ax=ax, cmap=plt.cm.Blues)\n",
    "\n",
    "plt.title(\"Confusion Matrix\")\n",
    "plt.xlabel(\"Predicted Label\")\n",
    "plt.ylabel(\"True Label\")\n",
    "plt.show()\n"
   ]
  },
  {
   "cell_type": "code",
   "execution_count": 16,
   "metadata": {},
   "outputs": [
    {
     "data": {
      "text/plain": [
       "0    1096\n",
       "1     207\n",
       "Name: Label, dtype: int64"
      ]
     },
     "execution_count": 16,
     "metadata": {},
     "output_type": "execute_result"
    }
   ],
   "source": [
    "y_test.value_counts()"
   ]
  },
  {
   "cell_type": "code",
   "execution_count": 17,
   "metadata": {},
   "outputs": [
    {
     "data": {
      "text/plain": [
       "0    1096\n",
       "1     207\n",
       "Name: Label, dtype: int64"
      ]
     },
     "execution_count": 17,
     "metadata": {},
     "output_type": "execute_result"
    }
   ],
   "source": [
    "y_test.value_counts()"
   ]
  },
  {
   "cell_type": "code",
   "execution_count": 18,
   "metadata": {},
   "outputs": [],
   "source": [
    "# param_grid = {\n",
    "#     'learning_rate': [0.01, 0.1, 0.2],\n",
    "#     'n_estimators': [50, 100, 150],\n",
    "#     'max_depth': [3, 4],\n",
    "#     'min_child_weight': [1, 3],\n",
    "#     'gamma': [0.1, 0.01, 0.05],\n",
    "#     'subsample': [0.4,0.6],\n",
    "#     'colsample_bytree': [0.3, 0.8],\n",
    "# }\n",
    "\n",
    "# # Create an XGBoost classifier with default parameters\n",
    "# xgb_classifier = xgb.XGBClassifier(objective='binary:logistic', random_state=42, n_jobs=-1)\n",
    "\n",
    "# # Define the scoring metric (F1-score)\n",
    "# scoring = make_scorer(f1_score)\n",
    "\n",
    "# grid_search = GridSearchCV(\n",
    "#     estimator=xgb_classifier,\n",
    "#     param_grid=param_grid,\n",
    "#     scoring=scoring,\n",
    "#     cv=2,  # You can use more folds if needed\n",
    "#     verbose=2,\n",
    "#     n_jobs=-1,\n",
    "# )\n",
    "\n",
    "# if smoteBool:\n",
    "#     grid_search.fit(X_train_smote, y_train_smote)\n",
    "# else:\n",
    "#     grid_search.fit(X_train_filled, y_train)\n",
    "\n",
    "\n",
    "# # Get the best parameters and the corresponding best F1-score\n",
    "# best_params = grid_search.best_params_\n",
    "# best_f1_score = grid_search.best_score_\n",
    "\n",
    "# print(\"Best Parameters: \", best_params)\n",
    "# print(\"Best F1-score: \", best_f1_score)\n",
    "\n",
    "# # Train and evaluate the XGBoost model with the best parameters\n",
    "# best_xgb_model = xgb.XGBClassifier(objective='binary:logistic', random_state=42, **best_params)\n",
    "# if smoteBool:\n",
    "#     best_xgb_model.fit(X_train_smote, y_train_smote)\n",
    "#     y_pred = best_xgb_model.predict(X_test_filled)\n",
    "# else:\n",
    "#     best_xgb_model.fit(X_train_filled, y_train)\n",
    "#     y_pred = best_xgb_model.predict(X_test_filled)\n",
    "\n",
    "# accuracy = accuracy_score(y_test, y_pred)\n",
    "# print(\"Accuracy: %.2f%%\" % (accuracy * 100.0))\n",
    "# print(classification_report(y_test, y_pred))"
   ]
  },
  {
   "cell_type": "code",
   "execution_count": 19,
   "metadata": {},
   "outputs": [],
   "source": [
    "import numpy as np\n",
    "def smooth_data(data, window_size, method='average'):\n",
    "    if method == 'average':\n",
    "        window = np.ones(window_size) / window_size\n",
    "        smoothed_data = np.convolve(data, window, mode='same')\n",
    "    elif method == 'gaussian':\n",
    "        window = np.hanning(window_size)\n",
    "        window /= window.sum()\n",
    "        smoothed_data = np.convolve(data, window, mode='same')\n",
    "    else:\n",
    "        raise ValueError(f\"Unknown method: {method}\")\n",
    "    return smoothed_data\n",
    "\n"
   ]
  },
  {
   "cell_type": "code",
   "execution_count": 20,
   "metadata": {},
   "outputs": [
    {
     "data": {
      "image/png": "[encoded data removed]",
      "text/plain": [
       "<Figure size 720x432 with 1 Axes>"
      ]
     },
     "metadata": {
      "needs_background": "light"
     },
     "output_type": "display_data"
    }
   ],
   "source": [
    "temptest = \"finaldata_500/15.csv\"\n",
    "\n",
    "chunked_df = preprocess_and_chunk(temptest, chunk_size)\n",
    "otherDF = chunked_df.copy(deep=True)\n",
    "otherDF = otherDF.drop(columns=['Label', 'Frame'])\n",
    "otherDF = otherDF.fillna(otherDF.median())\n",
    "y_pred_proba = svm_clf.predict_proba(otherDF)\n",
    "\n",
    "temp = []\n",
    "for x in y_pred_proba:\n",
    "    temp.append(x[1])\n",
    "temp = smooth_data(temp, 15)\n",
    "\n",
    "import matplotlib.pyplot as plt\n",
    "\n",
    "plt.figure(figsize=(10,6))\n",
    "plt.plot(chunked_df.index, chunked_df['Label'])\n",
    "plt.plot(range(len(temp)), temp, label='temp')\n",
    "#plt.axhline(0.5, color='r', linestyle='--', label='Threshold')\n",
    "\n",
    "\n",
    "plt.xlabel('Time steps')\n",
    "plt.ylabel('Interest levels')\n",
    "plt.title('Interest level predictions vs labels (Participant 15)')\n",
    "plt.ylim([-0.1, 1.1])  # this ensures that the y-axis is scaled appropriately for binary data\n",
    "plt.show()"
   ]
  }
 ],
 "metadata": {
  "kernelspec": {
   "display_name": "Python 3",
   "language": "python",
   "name": "python3"
  },
  "language_info": {
   "codemirror_mode": {
    "name": "ipython",
    "version": 3
   },
   "file_extension": ".py",
   "mimetype": "text/x-python",
   "name": "python",
   "nbconvert_exporter": "python",
   "pygments_lexer": "ipython3",
   "version": "3.8.10"
  },
  "orig_nbformat": 4
 },
 "nbformat": 4,
 "nbformat_minor": 2
}
